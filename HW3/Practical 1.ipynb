{
 "cells": [
  {
   "cell_type": "markdown",
   "metadata": {},
   "source": [
    "<img src='https://cdn.freebiesupply.com/logos/large/2x/sharif-logo-png-transparent.png' alt=\"SUT logo\" width=300 height=300 align=center class=\"saturate\" >\n",
    "\n",
    "<br>\n",
    "<font>\n",
    "<div dir=ltr align=center>\n",
    "<font color=0F5298 size=7>\n",
    "    Artificial Intelligence <br>\n",
    "<font color=2565AE size=5>\n",
    "    Computer Engineering Department <br>\n",
    "    Fall 2024<br>\n",
    "<font color=3C99D size=5>\n",
    "    Practical Assignment 3 - Hidden Markov Model  <br>\n",
    "<font color=696880 size=4>\n",
    "Parsa Sharifi"
   ]
  },
  {
   "cell_type": "markdown",
   "metadata": {},
   "source": [
    "# Personal Data\n"
   ]
  },
  {
   "cell_type": "code",
   "metadata": {
    "ExecuteTime": {
     "end_time": "2024-12-09T16:21:16.944606Z",
     "start_time": "2024-12-09T16:21:16.941303Z"
    }
   },
   "source": [
    "# Set your student number and name\n",
    "student_number = '400100616'\n",
    "Name = 'Setayesh'\n",
    "Last_Name = 'Esteki'"
   ],
   "outputs": [],
   "execution_count": 1
  },
  {
   "cell_type": "code",
   "metadata": {
    "id": "8qksX5aqwnsS",
    "ExecuteTime": {
     "end_time": "2024-12-09T16:21:23.211424Z",
     "start_time": "2024-12-09T16:21:21.588536Z"
    }
   },
   "source": [
    "!pip install hmmlearn"
   ],
   "outputs": [
    {
     "name": "stdout",
     "output_type": "stream",
     "text": [
      "Requirement already satisfied: hmmlearn in /Library/Frameworks/Python.framework/Versions/3.11/lib/python3.11/site-packages (0.3.3)\r\n",
      "Requirement already satisfied: numpy>=1.10 in /Library/Frameworks/Python.framework/Versions/3.11/lib/python3.11/site-packages (from hmmlearn) (1.26.2)\r\n",
      "Requirement already satisfied: scikit-learn!=0.22.0,>=0.16 in /Library/Frameworks/Python.framework/Versions/3.11/lib/python3.11/site-packages (from hmmlearn) (1.3.2)\r\n",
      "Requirement already satisfied: scipy>=0.19 in /Library/Frameworks/Python.framework/Versions/3.11/lib/python3.11/site-packages (from hmmlearn) (1.11.4)\r\n",
      "Requirement already satisfied: joblib>=1.1.1 in /Library/Frameworks/Python.framework/Versions/3.11/lib/python3.11/site-packages (from scikit-learn!=0.22.0,>=0.16->hmmlearn) (1.3.2)\r\n",
      "Requirement already satisfied: threadpoolctl>=2.0.0 in /Library/Frameworks/Python.framework/Versions/3.11/lib/python3.11/site-packages (from scikit-learn!=0.22.0,>=0.16->hmmlearn) (3.2.0)\r\n"
     ]
    }
   ],
   "execution_count": 2
  },
  {
   "cell_type": "code",
   "metadata": {
    "id": "Th74QzY0zYrf",
    "ExecuteTime": {
     "end_time": "2024-12-09T16:21:48.287674Z",
     "start_time": "2024-12-09T16:21:44.622726Z"
    }
   },
   "source": [
    "# Import necessary libraries\n",
    "import numpy as np\n",
    "import matplotlib.pyplot as plt\n",
    "from hmmlearn import hmm"
   ],
   "outputs": [],
   "execution_count": 3
  },
  {
   "cell_type": "code",
   "metadata": {
    "id": "PH0wMJE-wr5O",
    "ExecuteTime": {
     "end_time": "2024-12-09T16:21:50.331854Z",
     "start_time": "2024-12-09T16:21:50.328422Z"
    }
   },
   "source": [
    "# Define a function to plot the hidden states\n",
    "def plot_hidden_states(model, X, lengths=None):\n",
    "    hidden_states = model.predict(X, lengths)\n",
    "\n",
    "    fig, axs = plt.subplots(model.n_components, sharex=True, sharey=True, figsize=(10, 8))\n",
    "    colors = plt.cm.get_cmap(\"viridis\", model.n_components)\n",
    "\n",
    "    for i, ax in enumerate(axs):\n",
    "        mask = hidden_states == i\n",
    "        ax.plot(X[mask], \".-\", color=colors(i), ms=6, label=f\"Hidden State {i}\")\n",
    "        ax.set_title(f\"Hidden State {i}\")\n",
    "        ax.legend()\n",
    "\n",
    "    plt.xlabel(\"Time Step\")\n",
    "    plt.show()\n"
   ],
   "outputs": [],
   "execution_count": 4
  },
  {
   "cell_type": "code",
   "metadata": {
    "id": "HUwFHbnQyj0B",
    "ExecuteTime": {
     "end_time": "2024-12-09T16:21:52.883757Z",
     "start_time": "2024-12-09T16:21:52.880075Z"
    }
   },
   "source": [
    "# Define the parameters of a more complex HMM with 4 hidden states and 4 possible observations\n",
    "\n",
    "# Transition probabilities (4x4 matrix for 4 hidden states)\n",
    "A = np.array([\n",
    "    [0.6, 0.1, 0.2, 0.1],\n",
    "    [0.2, 0.5, 0.2, 0.1],\n",
    "    [0.1, 0.3, 0.4, 0.2],\n",
    "    [0.3, 0.2, 0.2, 0.3]\n",
    "])\n",
    "\n",
    "# Emission probabilities (4x4 matrix for 4 states and 4 observations)\n",
    "B = np.array([\n",
    "    [0.5, 0.2, 0.2, 0.1],\n",
    "    [0.1, 0.3, 0.4, 0.2],\n",
    "    [0.2, 0.4, 0.1, 0.3],\n",
    "    [0.3, 0.1, 0.3, 0.3]\n",
    "])\n",
    "\n",
    "# Initial probabilities for 4 states\n",
    "pi = np.array([0.4, 0.3, 0.2, 0.1])\n",
    "\n",
    "# Generate a longer sequence of observations for more complexity\n",
    "observations = np.array([0, 1, 3, 2, 1, 0, 3, 3, 1, 2, 0, 1, 2, 3, 0, 1, 2, 2, 3, 1])\n"
   ],
   "outputs": [],
   "execution_count": 5
  },
  {
   "cell_type": "code",
   "metadata": {
    "id": "402KFxnS1Xfg",
    "ExecuteTime": {
     "end_time": "2024-12-09T16:25:05.165936Z",
     "start_time": "2024-12-09T16:25:05.159951Z"
    }
   },
   "source": [
    "# Viterbi Algorithm to determine the most probable state sequence\n",
    "\n",
    "def viterbi(obs, A, B, pi):\n",
    "    # Number of hidden states\n",
    "    N = A.shape[0]\n",
    "    # Length of the observation sequence\n",
    "    T = len(obs)\n",
    "    \n",
    "    # Initialization step\n",
    "    T1 = np.zeros((N, T))  # The probabilities of the most probable state sequence at each time step\n",
    "    T2 = np.zeros((N, T), dtype=int)  # Backpointer for the most probable state sequence\n",
    "    Z = np.zeros(T, dtype=int)  # The most probable state sequence (to be filled out)\n",
    "\n",
    "    # Initialization\n",
    "    T1[:, 0] = pi * B[:, obs[0]]\n",
    "    \n",
    "    # Recursion step\n",
    "    for t in range(1, T):\n",
    "        for i in range(N):\n",
    "            trans_prob = T1[:, t-1] * A[:, i]  # Transition probabilities from the previous state to the current state\n",
    "            max_trans_prob = np.max(trans_prob)\n",
    "            T1[i, t] = max_trans_prob * B[i, obs[t]]  # Maximum probability with the emission probability\n",
    "            T2[i, t] = np.argmax(trans_prob)  # Store the state that maximized the probability\n",
    "    \n",
    "    # Termination step\n",
    "    Z[T-1] = np.argmax(T1[:, T-1])  # Final most probable state\n",
    "    for t in range(T-2, -1, -1):\n",
    "        Z[t] = T2[Z[t+1], t+1]  # Backtrack to find the most probable sequence of states\n",
    "\n",
    "    return Z, T1, T2\n",
    "\n"
   ],
   "outputs": [],
   "execution_count": 6
  },
  {
   "cell_type": "code",
   "metadata": {
    "ExecuteTime": {
     "end_time": "2024-12-09T16:32:07.857532Z",
     "start_time": "2024-12-09T16:32:07.848724Z"
    }
   },
   "source": [
    "import numpy as np\n",
    "\n",
    "def viterbi(obs, A, B, pi):\n",
    "    \"\"\"\n",
    "    Viterbi algorithm to find the most probable sequence of hidden states.\n",
    "\n",
    "    Parameters:\n",
    "    obs : list\n",
    "        Sequence of observed states.\n",
    "    A : 2D numpy array\n",
    "        State transition probability matrix.\n",
    "    B : 2D numpy array\n",
    "        Observation probability matrix.\n",
    "    pi : 1D numpy array\n",
    "        Initial state distribution.\n",
    "\n",
    "    Returns:\n",
    "    Z : list\n",
    "        The most probable sequence of hidden states.\n",
    "    T1 : 2D numpy array\n",
    "        Probability of the most likely path so far.\n",
    "    T2 : 2D numpy array\n",
    "        Backpointer to keep track of the states.\n",
    "    \"\"\"\n",
    "    # Number of hidden states (N) and number of time steps (T)\n",
    "    N = A.shape[0]\n",
    "    T = len(obs)\n",
    "\n",
    "    # Initialize T1 and T2 matrices\n",
    "    T1 = np.zeros((N, T))  # T1 stores the probabilities of the most likely path\n",
    "    T2 = np.zeros((N, T), dtype=int)  # T2 stores the backpointers for reconstruction of the path\n",
    "\n",
    "    # Initialization step: Calculate the probabilities for the first observation\n",
    "    T1[:, 0] = pi * B[:, obs[0]]\n",
    "\n",
    "    # Dynamic programming step: Iterate over the remaining observations\n",
    "    for t in range(1, T):\n",
    "        for i in range(N):\n",
    "            # Calculate the transition probabilities to the current state\n",
    "            trans_prob = T1[:, t-1] * A[:, i]\n",
    "            max_trans_prob = np.max(trans_prob)\n",
    "            T1[i, t] = max_trans_prob * B[i, obs[t]]  # Max transition probability * emission probability\n",
    "            T2[i, t] = np.argmax(trans_prob)  # Store the state that maximized the transition probability\n",
    "\n",
    "    # Termination step: Backtrack to find the most probable state sequence\n",
    "    Z = np.zeros(T, dtype=int)\n",
    "    Z[T-1] = np.argmax(T1[:, T-1])  # Start from the last state with highest probability\n",
    "\n",
    "    # Backtrack to find the full sequence\n",
    "    for t in range(T-2, -1, -1):\n",
    "        Z[t] = T2[Z[t+1], t+1]  # Follow the backpointers\n",
    "\n",
    "    return Z, T1, T2\n",
    "\n",
    "# Example usage:\n",
    "observations = np.array([0, 1, 3, 2, 1, 0, 3, 3, 1, 2, 0, 1, 2, 3, 0, 1, 2, 2, 3, 1])\n",
    "A = np.array([\n",
    "    [0.6, 0.1, 0.2, 0.1],\n",
    "    [0.2, 0.5, 0.2, 0.1],\n",
    "    [0.1, 0.3, 0.4, 0.2],\n",
    "    [0.3, 0.2, 0.2, 0.3]\n",
    "])\n",
    "B = np.array([\n",
    "    [0.5, 0.2, 0.2, 0.1],\n",
    "    [0.1, 0.3, 0.4, 0.2],\n",
    "    [0.2, 0.4, 0.1, 0.3],\n",
    "    [0.3, 0.1, 0.3, 0.3]\n",
    "])\n",
    "pi = np.array([0.4, 0.3, 0.2, 0.1])\n",
    "\n",
    "# Run the Viterbi algorithm\n",
    "optimal_path, T1, T2 = viterbi(observations, A, B, pi)\n",
    "\n",
    "# Print the optimal state sequence\n",
    "print(\"Optimal state sequence:\", optimal_path)\n"
   ],
   "outputs": [
    {
     "name": "stdout",
     "output_type": "stream",
     "text": [
      "Optimal state sequence: [0 0 0 0 0 0 0 0 0 0 0 0 0 0 0 2 1 1 1 1]\n"
     ]
    }
   ],
   "execution_count": 9
  },
  {
   "cell_type": "code",
   "metadata": {
    "id": "FVqbBSWX18jD",
    "ExecuteTime": {
     "end_time": "2024-12-09T16:32:11.213257Z",
     "start_time": "2024-12-09T16:32:11.208965Z"
    }
   },
   "source": [
    "# Run the Viterbi algorithm\n",
    "optimal_path, T1, T2 = viterbi(observations, A, B, pi)\n",
    "print(\"Optimal state sequence (from scratch):\", optimal_path)\n"
   ],
   "outputs": [
    {
     "name": "stdout",
     "output_type": "stream",
     "text": [
      "Optimal state sequence (from scratch): [0 0 0 0 0 0 0 0 0 0 0 0 0 0 0 2 1 1 1 1]\n"
     ]
    }
   ],
   "execution_count": 10
  },
  {
   "cell_type": "markdown",
   "metadata": {
    "id": "6MbBv0vJ2ALz"
   },
   "source": [
    "Use hmmlearn and check the results:"
   ]
  },
  {
   "cell_type": "code",
   "metadata": {
    "id": "KBdnxdXw1eJf",
    "ExecuteTime": {
     "end_time": "2024-12-09T16:34:49.524395Z",
     "start_time": "2024-12-09T16:34:49.511648Z"
    }
   },
   "source": [
    "import numpy as np\n",
    "from hmmlearn import hmm\n",
    "\n",
    "# Define the observations (same as before)\n",
    "observations = np.array([0, 1, 3, 2, 1, 0, 3, 3, 1, 2, 0, 1, 2, 3, 0, 1, 2, 2, 3, 1]).reshape(-1, 1)\n",
    "\n",
    "# Define transition probabilities (4x4 matrix for 4 hidden states)\n",
    "A = np.array([\n",
    "    [0.6, 0.1, 0.2, 0.1],\n",
    "    [0.2, 0.5, 0.2, 0.1],\n",
    "    [0.1, 0.3, 0.4, 0.2],\n",
    "    [0.3, 0.2, 0.2, 0.3]\n",
    "])\n",
    "\n",
    "# Define emission probabilities (4x4 matrix for 4 states and 4 observations)\n",
    "B = np.array([\n",
    "    [0.5, 0.2, 0.2, 0.1],\n",
    "    [0.1, 0.3, 0.4, 0.2],\n",
    "    [0.2, 0.4, 0.1, 0.3],\n",
    "    [0.3, 0.1, 0.3, 0.3]\n",
    "])\n",
    "\n",
    "# Define initial state probabilities\n",
    "pi = np.array([0.4, 0.3, 0.2, 0.1])\n",
    "\n",
    "# Using hmmlearn CategoricalHMM to check the results\n",
    "try:\n",
    "    # Initialize a Hidden Markov Model with 4 hidden states\n",
    "    model = hmm.CategoricalHMM(n_components=4)\n",
    "\n",
    "    # Set the model's initial state probabilities\n",
    "    model.startprob_ = pi\n",
    "\n",
    "    # Set the transition probability matrix for the model\n",
    "    model.transmat_ = A\n",
    "\n",
    "    # Set the emission probability matrix, which defines probabilities of observations given each state\n",
    "    model.emissionprob_ = B\n",
    "\n",
    "    # Use the Viterbi algorithm to decode the sequence and find the most likely state sequence\n",
    "    state_sequence = model.predict(observations)\n",
    "\n",
    "    # Print the resulting optimal state sequence determined by the model\n",
    "    print(\"Optimal state sequence (using hmmlearn):\", state_sequence)\n",
    "\n",
    "    # Comparison of results with the custom Viterbi implementation\n",
    "    assert np.array_equal(optimal_path, state_sequence), \"Mismatch between custom implementation and hmmlearn!\"\n",
    "    print(\"Both implementations yield the same optimal state sequence.\")\n",
    "\n",
    "except AttributeError:\n",
    "    print(\"CategoricalHMM is not available in this hmmlearn version. Consider downgrading hmmlearn or using another library like pomegranate.\")\n"
   ],
   "outputs": [
    {
     "name": "stdout",
     "output_type": "stream",
     "text": [
      "Optimal state sequence (using hmmlearn): [0 0 0 0 0 0 0 0 0 0 0 0 0 0 0 2 1 1 1 1]\n",
      "Both implementations yield the same optimal state sequence.\n"
     ]
    }
   ],
   "execution_count": 11
  },
  {
   "cell_type": "markdown",
   "metadata": {
    "id": "B0vm7yen2Phi"
   },
   "source": [
    "Apply plot_hidden_states function and explain the results:"
   ]
  },
  {
   "cell_type": "code",
   "metadata": {
    "id": "KuWzfIQwzpcz",
    "ExecuteTime": {
     "end_time": "2024-12-09T16:36:56.426348Z",
     "start_time": "2024-12-09T16:36:56.202778Z"
    }
   },
   "source": [
    "import numpy as np\n",
    "import matplotlib.pyplot as plt\n",
    "from hmmlearn import hmm\n",
    "\n",
    "# Define the observations (same as before)\n",
    "observations = np.array([0, 1, 3, 2, 1, 0, 3, 3, 1, 2, 0, 1, 2, 3, 0, 1, 2, 2, 3, 1]).reshape(-1, 1)\n",
    "\n",
    "# Define transition probabilities (4x4 matrix for 4 hidden states)\n",
    "A = np.array([\n",
    "    [0.6, 0.1, 0.2, 0.1],\n",
    "    [0.2, 0.5, 0.2, 0.1],\n",
    "    [0.1, 0.3, 0.4, 0.2],\n",
    "    [0.3, 0.2, 0.2, 0.3]\n",
    "])\n",
    "\n",
    "# Define emission probabilities (4x4 matrix for 4 states and 4 observations)\n",
    "B = np.array([\n",
    "    [0.5, 0.2, 0.2, 0.1],\n",
    "    [0.1, 0.3, 0.4, 0.2],\n",
    "    [0.2, 0.4, 0.1, 0.3],\n",
    "    [0.3, 0.1, 0.3, 0.3]\n",
    "])\n",
    "\n",
    "# Define initial state probabilities\n",
    "pi = np.array([0.4, 0.3, 0.2, 0.1])\n",
    "\n",
    "# Function to plot hidden states\n",
    "def plot_hidden_states(model, X, lengths=None):\n",
    "    hidden_states = model.predict(X)\n",
    "\n",
    "    fig, axs = plt.subplots(model.n_components, sharex=True, sharey=True, figsize=(10, 8))\n",
    "    \n",
    "    # Use the new approach to get the colormap\n",
    "    cmap = plt.colormaps[\"viridis\"]  # Updated line\n",
    "    \n",
    "    for i, ax in enumerate(axs):\n",
    "        mask = hidden_states == i\n",
    "        ax.plot(range(len(X[mask])), X[mask], \".-\", color=cmap(i / model.n_components), ms=6, label=f\"Hidden State {i}\")\n",
    "        ax.set_title(f\"Hidden State {i}\")\n",
    "        ax.legend()\n",
    "\n",
    "    plt.xlabel(\"Time Step\")\n",
    "    plt.show()\n",
    "\n",
    "# Using hmmlearn CategoricalHMM to check the results\n",
    "try:\n",
    "    # Initialize a Hidden Markov Model with 4 hidden states\n",
    "    model = hmm.CategoricalHMM(n_components=4)\n",
    "\n",
    "    # Set the model's initial state probabilities\n",
    "    model.startprob_ = pi\n",
    "\n",
    "    # Set the transition probability matrix for the model\n",
    "    model.transmat_ = A\n",
    "\n",
    "    # Set the emission probability matrix, which defines probabilities of observations given each state\n",
    "    model.emissionprob_ = B\n",
    "\n",
    "    # Use the Viterbi algorithm to decode the sequence and find the most likely state sequence\n",
    "    state_sequence = model.predict(observations)\n",
    "\n",
    "    # Print the resulting optimal state sequence determined by the model\n",
    "    print(\"Optimal state sequence (using hmmlearn):\", state_sequence)\n",
    "\n",
    "    # Plot the hidden states using the plot function\n",
    "    plot_hidden_states(model, observations)\n",
    "\n",
    "except AttributeError:\n",
    "    print(\"CategoricalHMM is not available in this hmmlearn version. Consider downgrading hmmlearn or using another library like pomegranate.\")\n"
   ],
   "outputs": [
    {
     "name": "stdout",
     "output_type": "stream",
     "text": [
      "Optimal state sequence (using hmmlearn): [0 0 0 0 0 0 0 0 0 0 0 0 0 0 0 2 1 1 1 1]\n"
     ]
    },
    {
     "data": {
      "text/plain": [
       "<Figure size 1000x800 with 4 Axes>"
      ],
      "image/png": "[encoded data removed]"
     },
     "metadata": {},
     "output_type": "display_data"
    }
   ],
   "execution_count": 13
  },
  {
   "cell_type": "markdown",
   "metadata": {},
   "source": [
    "Now apply forward-backward algorithm:"
   ]
  },
  {
   "cell_type": "code",
   "metadata": {
    "id": "zayIz-Fy0Jcr",
    "ExecuteTime": {
     "end_time": "2024-12-09T16:38:56.841638Z",
     "start_time": "2024-12-09T16:38:56.832848Z"
    }
   },
   "source": [
    "import numpy as np\n",
    "\n",
    "def forward_backward(obs, A, B, pi):\n",
    "    \"\"\"\n",
    "    Forward-Backward algorithm for HMMs.\n",
    "\n",
    "    Parameters:\n",
    "    obs : list\n",
    "        Sequence of observed states (encoded as integers).\n",
    "    A : 2D numpy array\n",
    "        State transition probability matrix.\n",
    "    B : 2D numpy array\n",
    "        Observation probability matrix.\n",
    "    pi : 1D numpy array\n",
    "        Initial state distribution.\n",
    "\n",
    "    Returns:\n",
    "    gamma : 2D numpy array\n",
    "        Posterior probabilities of states at each time step.\n",
    "    alpha : 2D numpy array\n",
    "        Forward probabilities.\n",
    "    beta : 2D numpy array\n",
    "        Backward probabilities.\n",
    "    \"\"\"\n",
    "    N = A.shape[0]  # Number of states\n",
    "    T = len(obs)    # Number of observations\n",
    "\n",
    "    # Initialize alpha with the initial probabilities\n",
    "    alpha = np.zeros((N, T))\n",
    "    alpha[:, 0] = pi * B[:, obs[0]]  # Initial step based on the first observation\n",
    "    \n",
    "    # Step 1: Forward procedure\n",
    "    for t in range(1, T):\n",
    "        for j in range(N):\n",
    "            alpha[j, t] = np.sum(alpha[:, t-1] * A[:, j]) * B[j, obs[t]]\n",
    "\n",
    "    # Step 2: Backward procedure\n",
    "    beta = np.zeros((N, T))\n",
    "    beta[:, T-1] = 1  # Initialize beta with 1 at the last observation\n",
    "\n",
    "    for t in range(T-2, -1, -1):\n",
    "        for i in range(N):\n",
    "            beta[i, t] = np.sum(A[i, :] * B[:, obs[t+1]] * beta[:, t+1])\n",
    "\n",
    "    # Step 3: Calculate the posterior probabilities (gamma)\n",
    "    gamma = (alpha * beta) / np.sum(alpha * beta, axis=0)\n",
    "    \n",
    "    return gamma, alpha, beta\n",
    "\n",
    "# Example usage:\n",
    "# Define the parameters (same as before)\n",
    "A = np.array([\n",
    "    [0.6, 0.1, 0.2, 0.1],\n",
    "    [0.2, 0.5, 0.2, 0.1],\n",
    "    [0.1, 0.3, 0.4, 0.2],\n",
    "    [0.3, 0.2, 0.2, 0.3]\n",
    "])\n",
    "\n",
    "B = np.array([\n",
    "    [0.5, 0.2, 0.2, 0.1],\n",
    "    [0.1, 0.3, 0.4, 0.2],\n",
    "    [0.2, 0.4, 0.1, 0.3],\n",
    "    [0.3, 0.1, 0.3, 0.3]\n",
    "])\n",
    "\n",
    "pi = np.array([0.4, 0.3, 0.2, 0.1])\n",
    "\n",
    "# Define a sequence of observations (encoded as integers)\n",
    "observations = np.array([0, 1, 3, 2, 1, 0, 3, 3, 1, 2, 0, 1, 2, 3, 0, 1, 2, 2, 3, 1])\n",
    "\n",
    "\n"
   ],
   "outputs": [],
   "execution_count": 16
  },
  {
   "cell_type": "code",
   "metadata": {
    "ExecuteTime": {
     "end_time": "2024-12-09T16:38:58.454329Z",
     "start_time": "2024-12-09T16:38:58.450566Z"
    }
   },
   "source": [
    "gamma, alpha, beta = forward_backward(observations, A, B, pi)\n",
    "print(\"Posterior probabilities (gamma):\", gamma)"
   ],
   "outputs": [
    {
     "name": "stdout",
     "output_type": "stream",
     "text": [
      "Posterior probabilities (gamma): [[0.6146384  0.2848885  0.12835068 0.19955361 0.28907633 0.4095703\n",
      "  0.14934406 0.10727323 0.17449579 0.2549887  0.48195597 0.27425174\n",
      "  0.22183932 0.19962298 0.41576692 0.23393826 0.18015695 0.18966306\n",
      "  0.13228975 0.18590041]\n",
      " [0.11813748 0.2232025  0.29284317 0.48576923 0.3255039  0.13374932\n",
      "  0.20577366 0.27536529 0.37242092 0.44231516 0.15747749 0.28523268\n",
      "  0.44327498 0.27145712 0.14723399 0.31266142 0.52991664 0.52592256\n",
      "  0.343536   0.35434612]\n",
      " [0.1725203  0.43644251 0.37232498 0.11682914 0.31845804 0.27250425\n",
      "  0.42082444 0.40141187 0.3786388  0.09911533 0.20470527 0.37797665\n",
      "  0.13113364 0.29125424 0.25100225 0.3899755  0.11076301 0.1066552\n",
      "  0.34424573 0.39476224]\n",
      " [0.09470382 0.05546649 0.20648117 0.19784803 0.06696172 0.18417613\n",
      "  0.22405784 0.21594961 0.07444448 0.20358081 0.15586127 0.06253893\n",
      "  0.20375206 0.23766565 0.18599684 0.06342482 0.1791634  0.17775918\n",
      "  0.17992852 0.06499124]]\n"
     ]
    }
   ],
   "execution_count": 17
  }
 ],
 "metadata": {
  "colab": {
   "provenance": []
  },
  "kernelspec": {
   "display_name": "Python 3 (ipykernel)",
   "name": "python3",
   "language": "python"
  },
  "language_info": {
   "name": "python"
  }
 },
 "nbformat": 4,
 "nbformat_minor": 0
}
