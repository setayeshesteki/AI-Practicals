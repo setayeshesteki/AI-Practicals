{
 "cells": [
  {
   "cell_type": "markdown",
   "metadata": {},
   "source": [
    "<br>\n",
    "<font>\n",
    "<div dir=ltr align=center>\n",
    "<img src=\"https://cdn.freebiesupply.com/logos/large/2x/sharif-logo-png-transparent.png\" width=150 height=150> <br>\n",
    "<font color=0F5298 size=7>\n",
    "Artificial Intelligence <br>\n",
    "<font color=2565AE size=5>\n",
    "Computer Engineering Department <br>\n",
    "FALL 2024<br>\n",
    "<font color=3C99D size=5>\n",
    "Practical Assignment 4 - Neural Networks <br>\n",
    "<font color=696880 size=4>\n",
    "Arash Ziyaei Razban - Mahan Bayhaghi\n",
    "\n",
    "____________"
   ]
  },
  {
   "cell_type": "markdown",
   "metadata": {},
   "source": [
    "# Personal Data\n",
    "Please fill in your details below to help us keep track of your submission."
   ]
  },
  {
   "cell_type": "markdown",
   "metadata": {},
   "source": [
    "Student Name: `Setayesh Esteki`\n",
    "\n",
    "Student ID: `400100616`"
   ]
  },
  {
   "cell_type": "markdown",
   "metadata": {},
   "source": [
    "# Recurrent Neural Network (RNN)\n",
    "\n",
    "Nowadays machine learning algorithms and models are used to solve too many types of problems. One of the most important problems is sequence modeling. Sequence modeling is the ability of an algorithm to model, interpret, make predictions about, or generate sequence data like audio, text, etc.\n",
    "\n",
    "One of the most used algorithms to solve sequence modeling problems is the Recurrent Neural Network which is a specialized form of the classical Artificial Neural Network (Multi-Layer Perceptron). Below is a picture of this network architecture:\n",
    "\n",
    "<img src=\"RNN.jpg\" width=\"400\" height=\"200\">\n",
    "\n",
    "In sequences there is a common feature, that each value has some dependency on its previous members. A simple example is arithmetic sequence: $a_i = i * d + a_0, 0 \\leq i$, where $a_n$ is dependent on $a_{n-1}$. So based on this nature of the sequences, there is a loop inside the RNN cell. This helps the RNN cell to remember some information about the previous activation values. \n",
    "\n",
    "In general, RNN is used to model sequences because of the following advantages:\n",
    "+ handles variable-length dependencies.\n",
    "+ Tracks dependencies.\n",
    "+ Maintains information about the order.\n",
    "+ Shares parameters across the sequence.\n"
   ]
  },
  {
   "cell_type": "markdown",
   "metadata": {},
   "source": [
    "# What you are going to do in this notebook\n",
    "\n",
    "+ `Step1.` You have to design a simple neural network that has only 4 neurons, inspired by the RNNs architecture, and use it to predict the next number of an arithmetic sequence.\n",
    "\n",
    "+ `Step2.` You have to increase the number of the neurons to 8. Then you have create a complex dataset of arithmetic sequences, that in each with a number of `d` called $1 \\leq n$.\n",
    "\n",
    "+ `Step3.` In the previous sections, you will find out why just using the basic architecture of RNNs does not work for complex data. So, for this step, you have to implement a Gated Recurrent Unit (GRU) from scrach to train and test it over the MNIST dataset and compare it with PyTorch GRU."
   ]
  },
  {
   "cell_type": "markdown",
   "metadata": {
    "vscode": {
     "languageId": "plaintext"
    }
   },
   "source": [
    "# START TO LEARN ABOUT RNNs (30 points)\n",
    "Step 1. First, we start with simple data, like arithmetic sequence: $a_i = i * d + a_0, 0 \\leq i$.\n",
    "\n",
    "You have to design a simple neural network (only 4 neurons) inspired from the RNNs to predict the next number in the sequence.\n",
    "\n",
    "`Note`: First, try to solve this problem theoretically (find the final values for your network's weights) and then implement it.\n",
    "\n",
    "`your answer`\n",
    "\n",
    "#### **Theoretical Solution**\n",
    "To predict the next number in an arithmetic sequence \\( a_i = i \\cdot d + a_0 \\), we design a simple RNN-inspired neural network with 4 neurons. The model works as follows:\n",
    "\n",
    "1. **Sequence Dependency**: \n",
    "   - Each term in the sequence depends on the previous term and the difference \\( d \\).\n",
    "   - The RNN uses a hidden state to store the sequence's current state and updates it to predict the next term.\n",
    "\n",
    "2. **Network Architecture**:\n",
    "   - The network consists of a single hidden layer with 4 neurons and an output layer.\n",
    "   - The hidden state is updated based on:\n",
    "     \\[\n",
    "     h_{t+1} = W_{\\text{rec}} \\cdot h_t + W_{\\text{in}} \\cdot x_t\n",
    "     \\]\n",
    "   - The output \\( y_{t+1} \\) is computed directly from \\( h_{t+1} \\), where \\( x_t \\) represents the difference \\( d \\).\n",
    "\n",
    "3. **Weight Design**:\n",
    "   - Recurrent weight (\\( W_{\\text{rec}} \\)) is set to 1, allowing the network to propagate the current state.\n",
    "   - Input weight (\\( W_{\\text{in}} \\)) is set to \\( d \\), scaling the difference for predicting the next term.\n",
    "\n",
    "4. **Prediction Rule**:\n",
    "   - For a given input \\( a_0 \\), the network iteratively predicts the next sequence terms based on the arithmetic sequence rule:\n",
    "     \\[\n",
    "     a_{i+1} = a_i + d\n",
    "     \\]\n",
    "\n",
    "---\n",
    "\n",
    "#### **Implementation**\n",
    "The RNN is implemented in Python using the following steps:\n",
    "1. Initialize the weights and hidden state.\n",
    "2. Define a loop to calculate the next hidden state and output for each timestep.\n",
    "3. Generate the sequence and compare it with the theoretical sequence."
   ]
  },
  {
   "cell_type": "code",
   "metadata": {
    "ExecuteTime": {
     "end_time": "2025-01-02T00:20:37.322807Z",
     "start_time": "2025-01-02T00:20:33.929584Z"
    }
   },
   "source": [
    "from tqdm import tqdm\n",
    "import torch\n",
    "import torch.nn as nn\n",
    "import torch.optim as optim\n",
    "from torch.utils.data import DataLoader, Dataset\n",
    "import torch.nn.functional as F\n",
    "import numpy as np\n",
    "from scipy.stats import binom\n",
    "import matplotlib.pyplot as plt\n",
    "import torchvision.transforms as transforms\n",
    "from torchvision.datasets import MNIST"
   ],
   "outputs": [],
   "execution_count": 1
  },
  {
   "cell_type": "code",
   "metadata": {
    "ExecuteTime": {
     "end_time": "2025-01-02T00:20:37.326060Z",
     "start_time": "2025-01-02T00:20:37.323526Z"
    }
   },
   "source": [
    "import numpy as np\n",
    "\n",
    "def CustomDataset(max_length=20, size=10000): \n",
    "    \"\"\"\n",
    "    Generate your dataset with the following details:\n",
    "        - -100 <= a0 <= 100\n",
    "        - -20 <= d <= 20\n",
    "        - 1 <= len(sequence) <= max_length\n",
    "\n",
    "    Parameters:\n",
    "        max_length (int): Maximum length of any sequence. Default is 20.\n",
    "        size (int): Number of sequences to generate. Default is 10000.\n",
    "\n",
    "    Returns:\n",
    "        dataset (list): A list of tuples in the format:\n",
    "                        (length, sequence, next_number)\n",
    "    \"\"\"\n",
    "    dataset = []\n",
    "    for _ in range(size):\n",
    "        # Randomly choose the initial term a0 and common difference d\n",
    "        a0 = np.random.randint(-100, 101)     # Range: [-100, 100]\n",
    "        d = np.random.randint(-20, 21)        # Range: [-20, 20]\n",
    "\n",
    "        # Randomly choose the length of the sequence (at least 1, up to max_length)\n",
    "        length = np.random.randint(1, max_length + 1)\n",
    "\n",
    "        # Generate the arithmetic sequence\n",
    "        sequence = [a0 + i*d for i in range(length)]\n",
    "\n",
    "        # The \"next number\" is simply the next term in the arithmetic progression\n",
    "        next_number = a0 + length*d\n",
    "\n",
    "        # Append the tuple (length, sequence, next_number) to the dataset\n",
    "        dataset.append((length, sequence, next_number))\n",
    "    \n",
    "    return dataset\n"
   ],
   "outputs": [],
   "execution_count": 2
  },
  {
   "cell_type": "markdown",
   "metadata": {},
   "source": [
    "# Now create the model:\n",
    "Based on the this task design your model. \n",
    "+ Note that, your model should inspire from the behavior of RNNs.\n",
    "+ Solve this problem theoretically. Then you will find out you only need 4 neurons."
   ]
  },
  {
   "cell_type": "code",
   "metadata": {
    "ExecuteTime": {
     "end_time": "2025-01-02T00:20:37.329139Z",
     "start_time": "2025-01-02T00:20:37.326607Z"
    }
   },
   "source": [
    "class Model(nn.Module):\n",
    "    def __init__(self):\n",
    "        super(Model, self).__init__()\n",
    "        self.hidden_size = 4\n",
    "        self.rnn_cell = nn.RNNCell(1, self.hidden_size)\n",
    "        self.fc1 = nn.Linear(self.hidden_size, 2)\n",
    "        self.fc2 = nn.Linear(2, 1)\n",
    "\n",
    "        for param in self.parameters():\n",
    "            if len(param.shape) > 1:\n",
    "                nn.init.xavier_uniform_(param)\n",
    "            else:\n",
    "                nn.init.zeros_(param)\n",
    "\n",
    "    def forward(self, x):\n",
    "        batch_size = x.size(0)\n",
    "        h = torch.zeros(batch_size, self.hidden_size)\n",
    "        for i in range(x.size(1)):\n",
    "            h = self.rnn_cell(x[:, i].unsqueeze(1), h)\n",
    "        out = self.fc1(h)\n",
    "        out = self.fc2(out)\n",
    "        return out"
   ],
   "outputs": [],
   "execution_count": 3
  },
  {
   "cell_type": "markdown",
   "metadata": {},
   "source": [
    "# Training Loop\n",
    "Now you have to train your model. \n",
    "\n",
    "Note, your architecture must be based on RNNs. This means that you have to set a hidden state called `h` and use it to create a loop for your model like RNNs."
   ]
  },
  {
   "cell_type": "code",
   "metadata": {
    "ExecuteTime": {
     "end_time": "2025-01-02T00:21:26.539294Z",
     "start_time": "2025-01-02T00:20:37.330485Z"
    }
   },
   "source": [
    "# Create your dataset\n",
    "dataset = CustomDataset()  # Each element: (length, sequence, next_number)\n",
    "\n",
    "# Initialize model, loss function, and optimizer\n",
    "model = Model()\n",
    "criterion = nn.MSELoss()\n",
    "optimizer = optim.Adam(model.parameters(), lr=0.001)\n",
    "scheduler = optim.lr_scheduler.StepLR(optimizer, step_size=3, gamma=0.5)\n",
    "\n",
    "\n",
    "# Number of epochs\n",
    "epochs = 10\n",
    "\n",
    "for epoch in range(epochs):\n",
    "    model.train()\n",
    "    total_loss = 0.0\n",
    "\n",
    "    for length, seq, next_val in dataset:\n",
    "        # 1) Zero the gradients\n",
    "        optimizer.zero_grad()\n",
    "\n",
    "        # 2) Convert 'seq' into a torch tensor of shape (1, length)\n",
    "        #    We use unsqueeze(0) so that the batch dimension is 1.\n",
    "        #    Each element in seq is a scalar, hence dtype=torch.float32.\n",
    "        x_tensor = torch.tensor(seq, dtype=torch.float32).unsqueeze(0)\n",
    "        \n",
    "        # 3) Convert 'next_val' into a torch tensor of shape (1,)\n",
    "        y_tensor = torch.tensor([next_val], dtype=torch.float32)\n",
    "\n",
    "        # 4) Forward pass\n",
    "        output = model(x_tensor)  # Now x_tensor is a proper tensor\n",
    "        \n",
    "        # 5) Compute the loss\n",
    "        #    output has shape (1, 1); after squeezing, it will be (1,)\n",
    "        #    y_tensor has shape (1,). So the shapes match for MSELoss.\n",
    "        loss = criterion(output.squeeze(), y_tensor)\n",
    "        \n",
    "        # 6) Backward pass\n",
    "        loss.backward()\n",
    "        \n",
    "        # 7) Update parameters\n",
    "        optimizer.step()\n",
    "        \n",
    "        # 8) Accumulate the total loss\n",
    "        total_loss += loss.item()\n",
    "    scheduler.step()\n",
    "    \n",
    "    # Print average loss for the epoch\n",
    "    avg_loss = total_loss / len(dataset)\n",
    "    print(f\"Epoch [{epoch+1}/{epochs}], Loss: {avg_loss:.6f}\")\n"
   ],
   "outputs": [
    {
     "name": "stderr",
     "output_type": "stream",
     "text": [
      "/Library/Frameworks/Python.framework/Versions/3.11/lib/python3.11/site-packages/torch/nn/modules/loss.py:535: UserWarning: Using a target size (torch.Size([1])) that is different to the input size (torch.Size([])). This will likely lead to incorrect results due to broadcasting. Please ensure they have the same size.\n",
      "  return F.mse_loss(input, target, reduction=self.reduction)\n"
     ]
    },
    {
     "name": "stdout",
     "output_type": "stream",
     "text": [
      "Epoch [1/10], Loss: 7962.671392\n",
      "Epoch [2/10], Loss: 607.973550\n",
      "Epoch [3/10], Loss: 379.113353\n",
      "Epoch [4/10], Loss: 161.901138\n",
      "Epoch [5/10], Loss: 132.625925\n",
      "Epoch [6/10], Loss: 112.787298\n",
      "Epoch [7/10], Loss: 74.178968\n",
      "Epoch [8/10], Loss: 68.926701\n",
      "Epoch [9/10], Loss: 64.335050\n",
      "Epoch [10/10], Loss: 50.454033\n"
     ]
    }
   ],
   "execution_count": 4
  },
  {
   "cell_type": "markdown",
   "metadata": {},
   "source": [
    "# Weights Evaluation\n",
    "Print the weights of the model.\n",
    "\n",
    "You can see, model's weight are exactly same as what you have found in theoretical way."
   ]
  },
  {
   "cell_type": "code",
   "metadata": {
    "ExecuteTime": {
     "end_time": "2025-01-02T00:21:26.545503Z",
     "start_time": "2025-01-02T00:21:26.540374Z"
    }
   },
   "source": [
    "# TODO\n",
    "# Weights Evaluation\n",
    "# Print the weights of the model.\n",
    "\n",
    "# Access and print weights of the hidden and output layers\n",
    "print(\"Model Weights:\")\n",
    "weights = {name: param.data for name, param in model.named_parameters()}\n",
    "print(weights)\n"
   ],
   "outputs": [
    {
     "name": "stdout",
     "output_type": "stream",
     "text": [
      "Model Weights:\n",
      "{'rnn_cell.weight_ih': tensor([[ 0.0030],\n",
      "        [-0.0078],\n",
      "        [ 0.0140],\n",
      "        [-0.0138]]), 'rnn_cell.weight_hh': tensor([[ 0.8067,  1.0791, -0.8036,  0.6509],\n",
      "        [-0.2776, -0.2955,  0.4486,  0.1493],\n",
      "        [ 1.3597,  1.6352, -0.4425,  1.8459],\n",
      "        [ 0.6763,  0.0168,  0.1593, -0.5365]]), 'rnn_cell.bias_ih': tensor([-0.2884, -0.5720,  0.0073,  1.7616]), 'rnn_cell.bias_hh': tensor([-0.2884, -0.5720,  0.0073,  1.7616]), 'fc1.weight': tensor([[ 7.1821,  5.2134, -6.0177,  8.4018],\n",
      "        [ 6.9168,  6.9473, -6.2598,  8.1238]]), 'fc1.bias': tensor([0.1095, 0.1149]), 'fc2.weight': tensor([[-8.0885, -7.9394]]), 'fc2.bias': tensor([-0.0989])}\n"
     ]
    }
   ],
   "execution_count": 5
  },
  {
   "cell_type": "markdown",
   "metadata": {},
   "source": [
    "### Your Answer\n",
    "\n",
    "The hidden state in this model plays a crucial role in maintaining information about previous computations across sequence steps. By incorporating a hidden state, the model mimics the behavior of Recurrent Neural Networks (RNNs), which are designed to handle sequential data effectively.\n",
    "\n",
    "---\n",
    "\n",
    "### **How the Model Uses the Hidden State**\n",
    "In each step of the sequence, the input data (e.g., individual sequence elements) is processed through the recurrent layer. The hidden state is updated dynamically at every step using:\n",
    "- The current input, and\n",
    "- The previous hidden state.\n",
    "\n",
    "This iterative update allows the model to:\n",
    "1. Retain memory of past inputs.\n",
    "2. Dynamically adjust the representation of the sequence as it processes more data.\n",
    "\n",
    "The final hidden state serves as a summarized representation of the sequence, encapsulating all the relevant information needed for predicting the next term in the sequence.\n",
    "\n",
    "---\n",
    "\n",
    "### **Why the Hidden State is Helpful**\n",
    "\n",
    "1. **Capturing Long-Term Dependencies**:  \n",
    "   The hidden state allows the model to remember dependencies between distant elements in the sequence, which is essential for modeling patterns in sequential data.\n",
    "\n",
    "2. **Efficient Parameter Usage**:  \n",
    "   The hidden state mechanism reuses the same weights across all timesteps. This sharing of parameters reduces the model’s overall complexity and improves its generalization ability.\n",
    "\n",
    "3. **Preserving Order and Context**:  \n",
    "   For tasks where the order of elements is critical (e.g., time series, text), the hidden state preserves the sequential context by continuously updating its representation based on the current input and past information.\n",
    "\n",
    "4. **Summarizing Information**:  \n",
    "   By the end of the sequence, the hidden state serves as a compact summary of all preceding elements, enabling the model to use this summary for the final prediction.\n",
    "\n",
    "---\n",
    "\n",
    "Overall, the hidden state enables the model to learn and leverage temporal patterns, making it a powerful tool for sequence modeling tasks like arithmetic sequences, language processing, and time-series forecasting.\n"
   ]
  },
  {
   "cell_type": "markdown",
   "metadata": {},
   "source": [
    "# Analysis of long-term dependencies (40 points)\n",
    "Step 2. Now, we are going to do some analysis. In the previous, both the dataset and model were simple. Now, we want to make it a little complex. \n",
    "\n",
    "+ Assume the lengths for all sequences are equal.\n",
    "+ Consider each sequence has `n` number of `d`:\n",
    "    - e.g, $a_0, a_0 + d_0, a_1 + d_1, a_2 + d_2, ...., a_{n-1} + d_{n-1}, a_{n} + d_0, a_{n+1} + d_1, ...$\n",
    "+ Change your model: just increase the number of neurons to 8. Also, because your input's dimension has changed, you have to increase the hidden state `h` dimension.\n",
    "+ Create a loop over all possible $2 \\leq n \\leq 10$ and generate a dataset for each one. Then train a new model for each dataset.\n",
    "+ At the end, show a `TotalLoss - numberOfd` plot."
   ]
  },
  {
   "cell_type": "code",
   "metadata": {
    "ExecuteTime": {
     "end_time": "2025-01-02T00:21:26.549316Z",
     "start_time": "2025-01-02T00:21:26.546110Z"
    }
   },
   "source": [
    "class Model(nn.Module):\n",
    "    \"\"\"\n",
    "    Design a model with:\n",
    "    - 8 hidden neurons in the RNN cell\n",
    "    - Hidden state dimension adjusted to match new input dimensions\n",
    "    \"\"\"\n",
    "    def __init__(self, input_size=1, hidden_size=8, output_size=1):\n",
    "        super(Model, self).__init__()\n",
    "        self.hidden_size = hidden_size\n",
    "        \n",
    "        # Define the RNN Cell with updated hidden size\n",
    "        self.rnn_cell = nn.RNNCell(input_size, hidden_size)\n",
    "        \n",
    "        # Fully connected layers for output transformation\n",
    "        self.fc1 = nn.Linear(hidden_size, 8)\n",
    "        self.fc2 = nn.Linear(8, output_size)\n",
    "\n",
    "        # Initialize weights for stability\n",
    "        for param in self.parameters():\n",
    "            if len(param.shape) > 1:\n",
    "                nn.init.xavier_uniform_(param)\n",
    "            else:\n",
    "                nn.init.zeros_(param)\n",
    "\n",
    "    def forward(self, x):\n",
    "        \"\"\"\n",
    "        x: shape (batch_size, sequence_length, input_size)\n",
    "           Each sequence element is a single scalar => input_size=1\n",
    "        \"\"\"\n",
    "        batch_size = x.size(0)\n",
    "        seq_length = x.size(1)\n",
    "\n",
    "        # Initialize the hidden state to zeros\n",
    "        h = torch.zeros(batch_size, self.hidden_size, device=x.device)\n",
    "\n",
    "        # Process each element of the sequence\n",
    "        for t in range(seq_length):\n",
    "            input_t = x[:, t].unsqueeze(1)  # Shape: (batch_size, input_size)\n",
    "            h = self.rnn_cell(input_t, h)\n",
    "\n",
    "        # Pass the final hidden state through fully connected layers\n",
    "        out = self.fc1(h)      # Shape: (batch_size, 16)\n",
    "        out = self.fc2(out)    # Shape: (batch_size, output_size)\n",
    "        return out"
   ],
   "outputs": [],
   "execution_count": 6
  },
  {
   "cell_type": "code",
   "metadata": {
    "ExecuteTime": {
     "end_time": "2025-01-02T00:21:26.552202Z",
     "start_time": "2025-01-02T00:21:26.549830Z"
    }
   },
   "source": [
    "def CustomDataset(n, length=20, size=10000):\n",
    "    \"\"\"\n",
    "    Generate your dataset with the following details:\n",
    "        -100 <= a0 <= 100\n",
    "        -20 <= d_i <= 20 (for each of the n d values)\n",
    "        \n",
    "    Parameters:\n",
    "        - n: number of d values in the sequences\n",
    "        - length: length of all sequences (default is 20)\n",
    "        - size: number of sequences to generate (default is 10000)\n",
    "\n",
    "    Returns:\n",
    "        - dataset: A list of tuples, each containing:\n",
    "                   (length, sequence, next_number in the sequence)\n",
    "    \"\"\"\n",
    "    dataset = []\n",
    "    for _ in range(size):\n",
    "        # Random initial term\n",
    "        a0 = np.random.randint(-100, 101)  # Range: [-100, 100]\n",
    "\n",
    "        # Generate n different d values\n",
    "        d_values = [np.random.randint(-20, 21) for _ in range(n)]  # Range: [-20, 20]\n",
    "\n",
    "        # Create the sequence using cyclic d values\n",
    "        sequence = [a0]\n",
    "        for i in range(1, length):\n",
    "            sequence.append(sequence[-1] + d_values[i % n])\n",
    "\n",
    "        # Determine the next number in the sequence\n",
    "        next_number = sequence[-1] + d_values[length % n]\n",
    "\n",
    "        # Add to dataset\n",
    "        dataset.append((length, sequence, next_number))\n",
    "    \n",
    "    return dataset\n"
   ],
   "outputs": [],
   "execution_count": 7
  },
  {
   "cell_type": "code",
   "metadata": {
    "ExecuteTime": {
     "end_time": "2025-01-02T00:31:55.827590Z",
     "start_time": "2025-01-02T00:21:26.552755Z"
    }
   },
   "source": [
    "losses = []\n",
    "epochs = 10\n",
    "\n",
    "for n in range(2, 10):\n",
    "    total_loss = 0\n",
    "    # Create your dataset, using the CustomDataset function\n",
    "    dataset = CustomDataset(n=n, length=20, size=10000)\n",
    "\n",
    "    # Initialize model, loss function (use MSE Loss function), and optimizer (use adam optimizer)\n",
    "    model = Model(input_size=1, hidden_size=8, output_size=1)\n",
    "    criterion = nn.MSELoss()\n",
    "    optimizer = torch.optim.Adam(model.parameters(), lr=0.001)\n",
    "\n",
    "    # Optional: Use a scheduler for learning rate\n",
    "    scheduler = torch.optim.lr_scheduler.StepLR(optimizer, step_size=5, gamma=0.5)\n",
    "\n",
    "    # Training loop\n",
    "    for epoch in range(epochs):\n",
    "        model.train()\n",
    "        epoch_loss = 0.0\n",
    "\n",
    "        for _, seq, next_val in dataset:\n",
    "            # Convert sequence and next value to tensors\n",
    "            x_tensor = torch.tensor(seq, dtype=torch.float32).unsqueeze(0)  # Shape: (1, sequence_length, 1)\n",
    "            y_tensor = torch.tensor([next_val], dtype=torch.float32)        # Shape: (1,)\n",
    "\n",
    "            # Zero the gradients\n",
    "            optimizer.zero_grad()\n",
    "\n",
    "            # Forward pass\n",
    "            output = model(x_tensor)\n",
    "\n",
    "            # Compute the loss\n",
    "            loss = criterion(output.squeeze(), y_tensor)\n",
    "\n",
    "            # Backward pass\n",
    "            loss.backward()\n",
    "\n",
    "            # Update parameters\n",
    "            optimizer.step()\n",
    "\n",
    "            # Accumulate loss for the epoch\n",
    "            epoch_loss += loss.item()\n",
    "\n",
    "        # Update learning rate\n",
    "        scheduler.step()\n",
    "\n",
    "        # Average loss for the epoch\n",
    "        total_loss = epoch_loss / len(dataset)\n",
    "\n",
    "    # Append the total loss for this `n`\n",
    "    losses.append(total_loss)\n",
    "    print(f\"n = {n}, Total Loss: {total_loss:.6f}\")"
   ],
   "outputs": [
    {
     "name": "stdout",
     "output_type": "stream",
     "text": [
      "n = 2, Total Loss: 21.016307\n",
      "n = 3, Total Loss: 67.127602\n",
      "n = 4, Total Loss: 169.712165\n",
      "n = 5, Total Loss: 166.012990\n",
      "n = 6, Total Loss: 165.957464\n",
      "n = 7, Total Loss: 164.597701\n",
      "n = 8, Total Loss: 167.213431\n",
      "n = 9, Total Loss: 165.499059\n"
     ]
    }
   ],
   "execution_count": 8
  },
  {
   "cell_type": "code",
   "metadata": {
    "ExecuteTime": {
     "end_time": "2025-01-02T00:31:56.151864Z",
     "start_time": "2025-01-02T00:31:55.829895Z"
    }
   },
   "source": [
    "# plot your amount of loss and number of d in datasets\n",
    "# TODO\n",
    "plt.figure(figsize=(8, 5))\n",
    "plt.plot(range(2, 10), losses, marker='o', label=\"Total Loss\")\n",
    "plt.title(\"Total Loss vs Number of d Values (n)\")\n",
    "plt.xlabel(\"Number of d Values (n)\")\n",
    "plt.ylabel(\"Total Loss\")\n",
    "plt.grid()\n",
    "plt.legend()\n",
    "plt.show()"
   ],
   "outputs": [
    {
     "data": {
      "text/plain": [
       "<Figure size 800x500 with 1 Axes>"
      ],
      "image/png": "[encoded data removed]"
     },
     "metadata": {},
     "output_type": "display_data"
    }
   ],
   "execution_count": 9
  },
  {
   "cell_type": "markdown",
   "metadata": {},
   "source": [
    "# Write your opinion\n",
    "\n",
    "+ You can see, as the number of d in the sequences increases the amount of the total loss increases too. Why?\n",
    "    - `your answer`\n",
    "\n",
    "+ Can you mathematically explain your opinion? (help: There are some gradient issues!)\n",
    "    - `your answer`\n",
    "\n",
    "+ Can you explain the problem of Long-term dependencies in RNNs?\n",
    "    - `your answer`"
   ]
  },
  {
   "cell_type": "markdown",
   "metadata": {},
   "source": [
    "# Gated Recurrent Units (GRUs) (30 points)\n",
    "\n",
    "Step3. In the previous section, you saw, simple recurrent models cannot remember information from the past. This is a big problem because in real-world applications sequences have a lot of dependencies on their past time steps and we have to find a way to remember the information from the past. To address this problem, researchers have designed other architecture that can selectively remember or forget information over time. Like: `Long-Short Term Memory (LSTM)` and `Gated Recurrent Unit (GRU)`. The key building block behind these architectures is `gate`.\n",
    "\n",
    "#### GATE:\n",
    "These networks, use gates to track information throughout many time steps:\n",
    "+ Add information, when the information is needed.\n",
    "+ Remover information, When information is not important\n",
    "\n",
    "<img src=\"GATE.jpg\" width=\"400\" height=\"200\">\n",
    "\n",
    "#### Long-Short Term Memory:\n",
    "LSTM is an improved version of RNNs. In a classical recurrent model, there is a single hidden state `h` which is used to help the model to remember some information over time. But this is not enough to learn long-term dependencies. Using gates, LSTM is capable of addressing the problem of long-term dependencies. \n",
    "\n",
    "LSTM cell:\n",
    "\n",
    "<img src=\"LSTM.jpg\" width=\"400\" height=\"200\">\n",
    "\n",
    "GATES:\n",
    "+ <font color=green size=3> Forget gate:</font> To forget irrelevant information.\n",
    "+ <font color=red size=3> Store gate:</font> Decide what part of new is relevant.\n",
    "+ <font color=orange size=3> Update:</font> update cell state values.\n",
    "+ <font color=blue size=3> Output gate:</font> Controls what information is sent to the next time step.\n",
    " \n",
    "This architecture addresses the gradient issues you have described in the previous section. (How?)\n",
    "\n",
    "`write your answer`"
   ]
  },
  {
   "cell_type": "markdown",
   "metadata": {},
   "source": [
    "#### Gated Recurrent Unit (GRU):\n",
    "Like LSTM, GRU is designed to model sequential data by allowing information to be selectively remembered or forgotten over time.\n",
    "\n",
    "GRU cell:\n",
    "\n",
    "<img src=\"GRU.jpg\" width=\"400\" height=\"200\">"
   ]
  },
  {
   "cell_type": "markdown",
   "metadata": {},
   "source": [
    "GATES and other parts:\n",
    "+ <font color=green size=3> Reset gate:</font> How much of previous hidden state to forget.\n",
    "    - $r_t = \\sigma(W_r \\cdot [h_{t-1}, x_t])$\n",
    "+ <font color=orange size=3> Update gate:</font> How much of the candidate activation vector to incorporate into the new hidden state.\n",
    "    - $z_t = \\sigma(W_z \\cdot [h_{t-1}, x_t])$\n",
    "    \n",
    "+ <font color=red size=3> Candidate Activation vector:</font> Computed using the current input x and modified version of the previous hidden state that is `reset` by the reset gate.\n",
    "    - $\\tilde{h}_t = \\tanh(W_h \\cdot [r_t \\odot h_{t-1}, x_t])$\n",
    "\n",
    "+ <font color=blue size=3> Hidden state</font>\n",
    "    - $h_t = (1 - z_t) \\odot h_{t-1} + z_t \\odot \\tilde{h}_t$\n",
    "\n",
    "Note: the $W_r$, $W_z$, $W_h$ are the weights associated with the GRU cell."
   ]
  },
  {
   "cell_type": "markdown",
   "metadata": {},
   "source": [
    "# GRU Implementation\n",
    "Now, implement a Gated Recurrent Unit from scratch."
   ]
  },
  {
   "cell_type": "code",
   "metadata": {
    "ExecuteTime": {
     "end_time": "2025-01-02T00:31:56.175818Z",
     "start_time": "2025-01-02T00:31:56.172453Z"
    }
   },
   "source": [
    "class GRU_cell(nn.Module):\n",
    "    def __init__(self, input_dim, hidden_dim, num_calsses):\n",
    "        super().__init__()\n",
    "        self.input_dim = input_dim\n",
    "        self.hidden_dim = hidden_dim\n",
    "        self.num_classes = num_calsses\n",
    "\n",
    "        self.reset_gate = nn.Linear(self.input_dim + self.hidden_dim, self.hidden_dim)\n",
    "        self.update_gate = nn.Linear(self.input_dim + self.hidden_dim, self.hidden_dim)\n",
    "        self.candidate = nn.Linear(self.input_dim + self.hidden_dim, self.hidden_dim)\n",
    "        \n",
    "        self.output = nn.Linear(self.hidden_dim, self.num_classes)\n",
    "        \n",
    "        # TODO\n",
    "        # define activation functions\n",
    "        \n",
    "    def forward(self, x, h, end = False):\n",
    "        # TODO \n",
    "        # (reset gate, update gate, candidate vector, hidden state, output)\n",
    "        # feel free to change the input parameter\n",
    "        pass"
   ],
   "outputs": [],
   "execution_count": 10
  },
  {
   "cell_type": "markdown",
   "metadata": {},
   "source": [
    "# MNIST \n",
    "MNIST database is a collection of handwritten digits. You are going to use this database to train and test your GRU cell.\n",
    "\n",
    "First, to download this database run the cell below."
   ]
  },
  {
   "cell_type": "code",
   "metadata": {
    "ExecuteTime": {
     "end_time": "2025-01-02T00:31:56.178321Z",
     "start_time": "2025-01-02T00:31:56.176438Z"
    }
   },
   "source": [
    "database = MNIST(root = 'data/', download = True)\n",
    "# TODO\n",
    "# get train and test data - use transforms.ToTensor() to convert images to tensor\n",
    "train_data = \n",
    "test_data = "
   ],
   "outputs": [
    {
     "ename": "SyntaxError",
     "evalue": "invalid syntax (2723446608.py, line 4)",
     "output_type": "error",
     "traceback": [
      "\u001B[0;36m  Cell \u001B[0;32mIn[11], line 4\u001B[0;36m\u001B[0m\n\u001B[0;31m    train_data =\u001B[0m\n\u001B[0m                 ^\u001B[0m\n\u001B[0;31mSyntaxError\u001B[0m\u001B[0;31m:\u001B[0m invalid syntax\n"
     ]
    }
   ],
   "execution_count": 11
  },
  {
   "cell_type": "markdown",
   "metadata": {},
   "source": [
    "Show the image and label of one instance from the train data."
   ]
  },
  {
   "cell_type": "code",
   "metadata": {},
   "source": [
    "# TODO"
   ],
   "outputs": [],
   "execution_count": null
  },
  {
   "cell_type": "code",
   "metadata": {},
   "source": [
    "# TODO\n",
    "# show one image tensor"
   ],
   "outputs": [],
   "execution_count": null
  },
  {
   "cell_type": "markdown",
   "metadata": {},
   "source": [
    "### Write a generate custom dataset function\n",
    "+ For each data in the database convert, use one-hot encoding from pytorch to encode your label to a vector. This is necessary for computing the amount of loss.\n",
    "+ It is common to use batches of data to train our model simultaneously on a batch. The length of a batch at most is `BATCH_SIZE`.\n",
    "    - Note: you can also train your model on each data (one by one) but the training part will take too much time. \n",
    "+ Return batches of data."
   ]
  },
  {
   "cell_type": "code",
   "metadata": {},
   "source": [
    "HIDDEN_DIM = 15\n",
    "INPUT_DIM = 28\n",
    "NUM_CLASSES = 10\n",
    "BATCH_SIZE = 128\n",
    "EPOCHS = 30"
   ],
   "outputs": [],
   "execution_count": null
  },
  {
   "cell_type": "code",
   "metadata": {},
   "source": [
    "def CustomDataset(data, batch_size = BATCH_SIZE):\n",
    "    \"\"\" \n",
    "        Generate batches of data. Use one-hot encoding to encode your labels according to number of classes.\n",
    "        \n",
    "        Parameters:\n",
    "            - data: MNIST database\n",
    "            - batch_size = BATCH_SIZE\n",
    "\n",
    "        Returns:\n",
    "            - batches = A list of [(image_tensor, encoded label)]. Each batch's length is at most BATCH_SIZE\n",
    "    \"\"\"\n",
    "    batches = []\n",
    "    \n",
    "    for image_tensor, label in data:\n",
    "        encoded_label = # use one-hot encoding\n",
    "        encoded_label = torch.tensor(encoded_label, dtype=torch.float32).unsqueeze(dim = 0)\n",
    "        # TODO\n",
    "\n",
    "    return batches"
   ],
   "outputs": [],
   "execution_count": null
  },
  {
   "cell_type": "markdown",
   "metadata": {},
   "source": [
    "### Training loop\n",
    "write your training loop.\n",
    "+ For loss function: use `CrossEntropyLoss` function\n",
    "+ Use adam optimizer\n",
    "+ To optimize your training process, you can use `optim.lr_schduler`. (Why this will improve the training process?)\n",
    "    - `your answer`\n",
    "+ Note: Also, in each time step give one row of image tensor to the model because your model is sequential (you also can use each column)."
   ]
  },
  {
   "cell_type": "code",
   "metadata": {},
   "source": [
    "# TODO\n",
    "# create batches\n",
    "batches = CustomDataset(train_data)\n",
    "\n",
    "# Initialize model, loss function, and optimizer\n",
    "model = GRU_cell(INPUT_DIM, HIDDEN_DIM, NUM_CLASSES)\n",
    "criterion = nn.CrossEntropyLoss()\n",
    "optimizer = optim.Adam(model.parameters(), lr=0.001)\n",
    "\n",
    "# use scheduler to set learning rate\n",
    "\n",
    "# training loop\n",
    "# TODO\n",
    "for epoch in range(EPOCHS):\n",
    "    model.train()\n",
    "    total_loss = 0\n",
    "\n",
    "    for x, y in batches:\n"
   ],
   "outputs": [],
   "execution_count": null
  },
  {
   "cell_type": "markdown",
   "metadata": {},
   "source": [
    "### Test your model on Test data\n",
    "Use the test data to evaluate your model.\n",
    "+ Print the accuracy of your model (should be greater than $94\\%$).\n",
    "+ Show some predictions with actual value from the test data."
   ]
  },
  {
   "cell_type": "code",
   "metadata": {},
   "source": [
    "model.eval()\n",
    "with torch.no_grad():\n",
    "    # compute the accuracy of your model\n",
    "    # TODO\n",
    "    count = 0\n",
    "    dataset = CustomDataset(test_data)\n",
    "\n",
    "    for x, y in dataset:\n",
    "        # TODO\n",
    "        pass\n",
    "    "
   ],
   "outputs": [],
   "execution_count": null
  },
  {
   "cell_type": "code",
   "metadata": {},
   "source": [
    "# show images of 50 predictions with actual values "
   ],
   "outputs": [],
   "execution_count": null
  }
 ],
 "metadata": {
  "kernelspec": {
   "display_name": "Python 3",
   "language": "python",
   "name": "python3"
  },
  "language_info": {
   "codemirror_mode": {
    "name": "ipython",
    "version": 3
   },
   "file_extension": ".py",
   "mimetype": "text/x-python",
   "name": "python",
   "nbconvert_exporter": "python",
   "pygments_lexer": "ipython3",
   "version": "3.11.5"
  }
 },
 "nbformat": 4,
 "nbformat_minor": 2
}
