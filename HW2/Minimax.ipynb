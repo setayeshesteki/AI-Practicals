{
 "cells": [
  {
   "cell_type": "markdown",
   "id": "1f92315ba2ff9b88",
   "metadata": {},
   "source": [
    "\n",
    "<br>\n",
    "<font>\n",
    "<div dir=ltr align=center>\n",
    "<img src=\"https://cdn.freebiesupply.com/logos/large/2x/sharif-logo-png-transparent.png\" width=150 height=150> <br>\n",
    "<font color=0F5298 size=7>\n",
    "Artificial Intelligence <br>\n",
    "<font color=2565AE size=5>\n",
    "Computer Engineering Department <br>\n",
    "Spring 2024<br>\n",
    "<font color=3C99D size=5>\n",
    "Practical Assignment - Minimax <br>\n",
    "<font color=696880 size=4>\n",
    "Ali Aghayari\n",
    "\n",
    "\n",
    "____"
   ]
  },
  {
   "cell_type": "markdown",
   "id": "d084a089de0a2fe",
   "metadata": {},
   "source": [
    "# P0 : Game explanation and environment setup (0 points)"
   ]
  },
  {
   "cell_type": "markdown",
   "id": "48e5391a5b221a80",
   "metadata": {},
   "source": [
    "In this Jupyter notebook, we aim to develop the AI logic for the game **Connect4**. Players take turns dropping pieces into a grid, and the first player to align four consecutive pieces vertically, horizontally, or diagonally wins. The focus is on creating an intelligent AI opponent using the minimax algorithm with alpha-beta pruning to deliver a challenging gameplay experience.\n",
    "\n",
    "<span style=\"color: red;\">However, there’s an added twist: after either player drops a piece, there is a 12.5% chance that the entire board will rotate 90 degrees clockwise, changing the direction of gravity as well! Keep this rule in mind when implementing your heuristic, as your AI will face a tough challenge ahead.</span>\n",
    "\n",
    "<br>\n",
    "\n",
    "Note: The winning condition will be checked after applying the rotation. If both sides have winning conditions, the player who made the last move will lose.\n",
    "\n",
    "<br>\n",
    "Note: For full clarification, the following occurs:\n",
    "- Some players make their moves.\n",
    "- Rotations happens. (12.5%)\n",
    "- New gravity is applied to every piece on the board. (12.5%)\n",
    "- The winning condition is then checked.\n",
    "\n",
    "<br>\n",
    "Rules: Do not modify the code cells that don’t have TODO comments, except for those that are explicitly mentioned as okay to change."
   ]
  },
  {
   "cell_type": "markdown",
   "id": "ac9f632d947ddfcb",
   "metadata": {},
   "source": [
    "First, we will define some constants to make the code cleaner, more organized, and to set up the game environment."
   ]
  },
  {
   "cell_type": "code",
   "id": "73bc4e502ad9b405",
   "metadata": {
    "ExecuteTime": {
     "end_time": "2024-11-15T15:57:21.997099Z",
     "start_time": "2024-11-15T15:57:21.991314Z"
    }
   },
   "source": [
    "# Game Constants\n",
    "ROW_COUNT = 7\n",
    "COLUMN_COUNT = 7\n",
    "WINDOW_LENGTH = 4\n",
    "EMPTY = 0\n",
    "\n",
    "# Players and Pieces\n",
    "PLAYER = 0\n",
    "AI = 1\n",
    "EMPTY_PIECE = 0\n",
    "PLAYER_PIECE = 1\n",
    "AI_PIECE = 2\n",
    "\n",
    "# Colors (RGB values) - you can change the colors to your liking\n",
    "FG_COLOR = (0, 0, 255)\n",
    "BG_COLOR = (0, 0, 0)\n",
    "P1_COLOR = (255, 0, 0)\n",
    "P2_COLOR = (0, 255, 0)\n",
    "\n",
    "# Pygame Constants\n",
    "SQUARESIZE = 80\n",
    "RADIUS = SQUARESIZE // 2 - 5\n",
    "SCREEN_WIDTH = COLUMN_COUNT * SQUARESIZE\n",
    "SCREEN_HEIGHT = (ROW_COUNT + 1) * SQUARESIZE"
   ],
   "outputs": [],
   "execution_count": 32
  },
  {
   "cell_type": "markdown",
   "id": "104e905659d70540",
   "metadata": {},
   "source": [
    "These libraries are sufficient to complete this task, but feel free to add any additional imports you may need."
   ]
  },
  {
   "cell_type": "code",
   "id": "b8df99273bd4c499",
   "metadata": {
    "ExecuteTime": {
     "end_time": "2024-11-15T15:57:24.996717Z",
     "start_time": "2024-11-15T15:57:24.180388Z"
    }
   },
   "source": [
    "!pip install pygame\n",
    "\n",
    "import numpy as np\n",
    "import random\n",
    "import pygame\n",
    "import math\n",
    "import time\n",
    "\n",
    "# Additional libraries can be imported here if needed\n"
   ],
   "outputs": [
    {
     "name": "stdout",
     "output_type": "stream",
     "text": [
      "Requirement already satisfied: pygame in /Library/Frameworks/Python.framework/Versions/3.11/lib/python3.11/site-packages (2.6.1)\r\n",
      "\r\n",
      "\u001B[1m[\u001B[0m\u001B[34;49mnotice\u001B[0m\u001B[1;39;49m]\u001B[0m\u001B[39;49m A new release of pip is available: \u001B[0m\u001B[31;49m24.1.1\u001B[0m\u001B[39;49m -> \u001B[0m\u001B[32;49m24.3.1\u001B[0m\r\n",
      "\u001B[1m[\u001B[0m\u001B[34;49mnotice\u001B[0m\u001B[1;39;49m]\u001B[0m\u001B[39;49m To update, run: \u001B[0m\u001B[32;49mpip install --upgrade pip\u001B[0m\r\n"
     ]
    }
   ],
   "execution_count": 33
  },
  {
   "cell_type": "markdown",
   "id": "ca5858d5d454d025",
   "metadata": {},
   "source": [
    "# P1 : Util functions (20 points)"
   ]
  },
  {
   "cell_type": "markdown",
   "id": "b8487d61b9fc8d53",
   "metadata": {},
   "source": [
    "We need to initialize the game board as an empty 2D array with dimensions of ROW_COUNT by COLUMN_COUNT."
   ]
  },
  {
   "cell_type": "code",
   "id": "bc91941833b5a626",
   "metadata": {
    "ExecuteTime": {
     "end_time": "2024-11-15T15:57:40.468775Z",
     "start_time": "2024-11-15T15:57:40.463734Z"
    }
   },
   "source": [
    "def create_board():\n",
    "    \"\"\"\n",
    "    Initializes an empty game board with dimensions ROW_COUNT x COLUMN_COUNT.\n",
    "    Each cell is set to EMPTY, representing an unoccupied position.\n",
    "    \n",
    "    Returns:\n",
    "        numpy.ndarray: A 2D array representing the game board.\n",
    "    \"\"\"\n",
    "    board = np.zeros((ROW_COUNT, COLUMN_COUNT), dtype=int)  # Create a 2D array filled with zeros\n",
    "    return board\n"
   ],
   "outputs": [],
   "execution_count": 34
  },
  {
   "cell_type": "markdown",
   "id": "a3f258636ead182e",
   "metadata": {},
   "source": [
    "Fill in the code to find the valid columns where a piece can be dropped."
   ]
  },
  {
   "cell_type": "code",
   "id": "fce8973a7f553f23",
   "metadata": {
    "ExecuteTime": {
     "end_time": "2024-11-15T16:26:37.502897Z",
     "start_time": "2024-11-15T16:26:37.498572Z"
    }
   },
   "source": [
    "def is_valid_location(board, col):\n",
    "    \"\"\"\n",
    "    Checks if the specified column has space for another piece.\n",
    "    \n",
    "    Args:\n",
    "        board (numpy.ndarray): The game board.\n",
    "        col (int): The column to check.\n",
    "    \n",
    "    Returns:\n",
    "        bool: True if the top of the column is empty, indicating space is available.\n",
    "    \"\"\"\n",
    "    return board[0][col] == EMPTY  # Check if the top row of the column is empty\n"
   ],
   "outputs": [],
   "execution_count": 56
  },
  {
   "cell_type": "code",
   "id": "c63ef2212d19db4e",
   "metadata": {
    "ExecuteTime": {
     "end_time": "2024-11-15T16:26:46.227289Z",
     "start_time": "2024-11-15T16:26:46.222161Z"
    }
   },
   "source": [
    "def get_valid_locations(board):\n",
    "    \"\"\"\n",
    "    Finds all columns that have at least one empty cell.\n",
    "    \n",
    "    Args:\n",
    "        board (numpy.ndarray): The game board.\n",
    "    \n",
    "    Returns:\n",
    "        list: A list of valid column indices where pieces can be dropped.\n",
    "    \"\"\"\n",
    "    valid_locations = []\n",
    "    for col in range(COLUMN_COUNT):\n",
    "        if is_valid_location(board, col):  # Check if column has an open spot\n",
    "            valid_locations.append(col)\n",
    "    return valid_locations\n"
   ],
   "outputs": [],
   "execution_count": 57
  },
  {
   "cell_type": "markdown",
   "id": "ca0127402f546d09",
   "metadata": {},
   "source": [
    "Fill in the code to find the valid row for the given column where a piece can be dropped."
   ]
  },
  {
   "cell_type": "code",
   "id": "b0631de7b344eb51",
   "metadata": {
    "ExecuteTime": {
     "end_time": "2024-11-15T16:27:18.249899Z",
     "start_time": "2024-11-15T16:27:18.245098Z"
    }
   },
   "source": [
    "def get_next_open_row(board, col):\n",
    "    \"\"\"\n",
    "    Finds the next open row in the given column where a piece can be dropped.\n",
    "    \n",
    "    Args:\n",
    "        board (numpy.ndarray): The current game board.\n",
    "        col (int): The column to check.\n",
    "    \n",
    "    Returns:\n",
    "        int: The index of the next open row in the specified column, or -1 if the column is full.\n",
    "    \"\"\"\n",
    "    for row in range(ROW_COUNT - 1, -1, -1):  # Start from the bottom row and go upwards\n",
    "        if board[row][col] == EMPTY:          # Check if the cell is empty\n",
    "            return row\n",
    "    return -1  # Return -1 if the column is full\n"
   ],
   "outputs": [],
   "execution_count": 58
  },
  {
   "cell_type": "markdown",
   "id": "1ccd121d353ef733",
   "metadata": {},
   "source": [
    "Fill in the code to drop a piece in the specified column of the board."
   ]
  },
  {
   "cell_type": "code",
   "id": "3a9517a62fa6fe29",
   "metadata": {
    "ExecuteTime": {
     "end_time": "2024-11-15T16:27:19.925178Z",
     "start_time": "2024-11-15T16:27:19.922561Z"
    }
   },
   "source": [
    "def drop_piece(board, col, piece):\n",
    "    \"\"\"\n",
    "    Drops a piece into the specified column on the board.\n",
    "    \n",
    "    Args:\n",
    "        board (numpy.ndarray): The current game board.\n",
    "        col (int): The column where the piece will be dropped.\n",
    "        piece (int): The piece type (e.g., PLAYER_PIECE or AI_PIECE).\n",
    "    \n",
    "    Returns:\n",
    "        None\n",
    "    \"\"\"\n",
    "    # Find the next open row in the specified column\n",
    "    row = get_next_open_row(board, col)\n",
    "    \n",
    "    if row != -1:  # Check if the column is not full\n",
    "        board[row][col] = piece  # Place the piece in the board\n"
   ],
   "outputs": [],
   "execution_count": 59
  },
  {
   "cell_type": "markdown",
   "id": "ee8e5e96d6ff0545",
   "metadata": {},
   "source": [
    "Fill in the code to check if the specified piece has won the game."
   ]
  },
  {
   "cell_type": "code",
   "id": "86d2cc41fa8f0572",
   "metadata": {
    "ExecuteTime": {
     "end_time": "2024-11-15T16:27:23.372923Z",
     "start_time": "2024-11-15T16:27:23.366079Z"
    }
   },
   "source": [
    "def winning_move(board, piece):\n",
    "    \"\"\"\n",
    "    Checks if the specified piece has achieved a winning move.\n",
    "    A winning move consists of four consecutive pieces either horizontally, vertically, or diagonally.\n",
    "    \n",
    "    Args:\n",
    "        board (numpy.ndarray): The current game board.\n",
    "        piece (int): The piece type to check (e.g., PLAYER_PIECE or AI_PIECE).\n",
    "    \n",
    "    Returns:\n",
    "        bool: True if the specified piece has won, False otherwise.\n",
    "    \"\"\"\n",
    "\n",
    "    # Horizontal win\n",
    "    for row in range(ROW_COUNT):\n",
    "        for col in range(COLUMN_COUNT - 3):\n",
    "            if np.all(board[row, col:col+4] == piece):\n",
    "                return True\n",
    "\n",
    "    # Vertical win\n",
    "    for col in range(COLUMN_COUNT):\n",
    "        for row in range(ROW_COUNT - 3):\n",
    "            if np.all([board[row+i][col] == piece for i in range(4)]):\n",
    "                return True\n",
    "\n",
    "    # Positive diagonal win (\\)\n",
    "    for row in range(ROW_COUNT - 3):\n",
    "        for col in range(COLUMN_COUNT - 3):\n",
    "            if np.all([board[row+i][col+i] == piece for i in range(4)]):\n",
    "                return True\n",
    "\n",
    "    # Negative diagonal win (/)\n",
    "    for row in range(3, ROW_COUNT):\n",
    "        for col in range(COLUMN_COUNT - 3):\n",
    "            if np.all([board[row-i][col+i] == piece for i in range(4)]):\n",
    "                return True\n",
    "\n",
    "    return False\n"
   ],
   "outputs": [],
   "execution_count": 60
  },
  {
   "cell_type": "markdown",
   "id": "d7e6509896da524a",
   "metadata": {},
   "source": [
    "# P2 : Scoring function and Minimax implementation (50 points)"
   ]
  },
  {
   "cell_type": "markdown",
   "id": "5e4bde4e2fb1d81",
   "metadata": {},
   "source": "Fill in the code to score the current situation for the player. Hint: You can divide the board into separate windows, score each window individually for the given piece, and sum the scores to obtain the total board score for that piece."
  },
  {
   "cell_type": "code",
   "id": "a59db402707105ea",
   "metadata": {
    "ExecuteTime": {
     "end_time": "2024-11-15T16:14:29.558986Z",
     "start_time": "2024-11-15T16:14:29.555189Z"
    }
   },
   "source": [
    "def evaluate_window(window, piece):\n",
    "    \"\"\"\n",
    "    Scores a window (subset of the board) for the specified piece.\n",
    "    The scoring function evaluates the number of pieces and empty spaces in the window.\n",
    "    \n",
    "    Args:\n",
    "        window (numpy.ndarray): A subset of the board (e.g., 4 consecutive cells).\n",
    "        piece (int): The piece type to evaluate (e.g., PLAYER_PIECE or AI_PIECE).\n",
    "    \n",
    "    Returns:\n",
    "        int: The score for the given window.\n",
    "    \"\"\"\n",
    "    score = 0\n",
    "    opponent_piece = PLAYER_PIECE if piece == AI_PIECE else AI_PIECE\n",
    "\n",
    "    piece_count = np.count_nonzero(window == piece)\n",
    "    empty_count = np.count_nonzero(window == EMPTY)\n",
    "    opponent_count = np.count_nonzero(window == opponent_piece)\n",
    "\n",
    "    if piece_count == 4:  # Winning condition\n",
    "        score += 100\n",
    "    elif piece_count == 3 and empty_count == 1:  # Strong position\n",
    "        score += 10\n",
    "    elif piece_count == 2 and empty_count == 2:  # Decent position\n",
    "        score += 5\n",
    "\n",
    "    if opponent_count == 3 and empty_count == 1:  # Block opponent's win\n",
    "        score -= 80\n",
    "\n",
    "    return score\n"
   ],
   "outputs": [],
   "execution_count": 47
  },
  {
   "cell_type": "code",
   "id": "74a9a841385a26a1",
   "metadata": {
    "ExecuteTime": {
     "end_time": "2024-11-15T16:27:25.243346Z",
     "start_time": "2024-11-15T16:27:25.237363Z"
    }
   },
   "source": [
    "def score_position(board, piece):\n",
    "    \"\"\"\n",
    "    Scores the entire board for the given piece by evaluating all possible windows.\n",
    "    \n",
    "    Args:\n",
    "        board (numpy.ndarray): The current game board.\n",
    "        piece (int): The piece type to evaluate (e.g., PLAYER_PIECE or AI_PIECE).\n",
    "    \n",
    "    Returns:\n",
    "        int: The aggregated score for the board.\n",
    "    \"\"\"\n",
    "    score = 0\n",
    "    center_column = COLUMN_COUNT // 2  # Center column index\n",
    "    opponent_piece = PLAYER_PIECE if piece == AI_PIECE else AI_PIECE\n",
    "\n",
    "    # Score center column (prefer central positions for strategic advantage)\n",
    "    center_array = [board[row][center_column] for row in range(ROW_COUNT)]\n",
    "    center_count = center_array.count(piece)\n",
    "    score += center_count * 6  # Heuristic: prefer pieces in the center\n",
    "\n",
    "    # Horizontal scoring\n",
    "    for row in range(ROW_COUNT):\n",
    "        for col in range(COLUMN_COUNT - 3):  # Ensure there's space for a window\n",
    "            window = board[row, col:col + 4]\n",
    "            score += evaluate_window(window, piece)\n",
    "\n",
    "    # Vertical scoring\n",
    "    for col in range(COLUMN_COUNT):\n",
    "        for row in range(ROW_COUNT - 3):  # Ensure there's space for a window\n",
    "            window = [board[row + i][col] for i in range(4)]\n",
    "            score += evaluate_window(window, piece)\n",
    "\n",
    "    # Positively sloped diagonal scoring (\\)\n",
    "    for row in range(ROW_COUNT - 3):\n",
    "        for col in range(COLUMN_COUNT - 3):  # Ensure there's space for a window\n",
    "            window = [board[row + i][col + i] for i in range(4)]\n",
    "            score += evaluate_window(window, piece)\n",
    "\n",
    "    # Negatively sloped diagonal scoring (/)\n",
    "    for row in range(3, ROW_COUNT):\n",
    "        for col in range(COLUMN_COUNT - 3):  # Ensure there's space for a window\n",
    "            window = [board[row - i][col + i] for i in range(4)]\n",
    "            score += evaluate_window(window, piece)\n",
    "\n",
    "    return score\n"
   ],
   "outputs": [],
   "execution_count": 61
  },
  {
   "cell_type": "markdown",
   "id": "5e901dea66c326a1",
   "metadata": {},
   "source": [
    "Fill in the code to implement the minimax algorithm with alpha beta pruning using the utility function provided."
   ]
  },
  {
   "cell_type": "code",
   "id": "fbe1057a-effa-4bec-9345-72a3752f187b",
   "metadata": {
    "ExecuteTime": {
     "end_time": "2024-11-15T16:27:27.875422Z",
     "start_time": "2024-11-15T16:27:27.868960Z"
    }
   },
   "source": [
    "def minimax(board, depth, alpha, beta, maximizingPlayer):\n",
    "    \"\"\"\n",
    "    Implements the minimax algorithm with alpha-beta pruning to find the best move.\n",
    "    \n",
    "    Args:\n",
    "        board (numpy.ndarray): The current game board.\n",
    "        depth (int): The maximum depth of the recursion.\n",
    "        alpha (float): The alpha value for pruning (initially -infinity).\n",
    "        beta (float): The beta value for pruning (initially infinity).\n",
    "        maximizingPlayer (bool): True if the current move is for the maximizing player (AI), False for the minimizing player (human).\n",
    "    \n",
    "    Returns:\n",
    "        tuple: (best_column, value) where `best_column` is the optimal column to play in, and `value` is the minimax evaluation score.\n",
    "    \"\"\"\n",
    "    valid_locations = get_valid_locations(board)\n",
    "    is_terminal = (\n",
    "    winning_move(board, PLAYER_PIECE) or \n",
    "    winning_move(board, AI_PIECE) or \n",
    "    len(get_valid_locations(board)) == 0 or \n",
    "    depth == 0\n",
    "    )\n",
    "\n",
    "    if is_terminal:\n",
    "        if winning_move(board, AI_PIECE):  # AI wins\n",
    "            return (None, 1000000)\n",
    "        elif winning_move(board, PLAYER_PIECE):  # Player wins\n",
    "            return (None, -1000000)\n",
    "        elif len(valid_locations) == 0:  # Draw\n",
    "            return (None, 0)\n",
    "        else:  # Depth reached\n",
    "            return (None, score_position(board, AI_PIECE))\n",
    "\n",
    "    if maximizingPlayer:\n",
    "        value = -float('inf')\n",
    "        best_column = random.choice(valid_locations)  # Choose a random column as a fallback\n",
    "        for col in valid_locations:\n",
    "            temp_board = board.copy()\n",
    "            drop_piece(temp_board, col, AI_PIECE)\n",
    "            new_score = minimax(temp_board, depth - 1, alpha, beta, False)[1]\n",
    "            if new_score > value:\n",
    "                value = new_score\n",
    "                best_column = col\n",
    "            alpha = max(alpha, value)\n",
    "            if alpha >= beta:  # Prune\n",
    "                break\n",
    "        return best_column, value\n",
    "\n",
    "    else:  # Minimizing player\n",
    "        value = float('inf')\n",
    "        best_column = random.choice(valid_locations)  # Choose a random column as a fallback\n",
    "        for col in valid_locations:\n",
    "            temp_board = board.copy()\n",
    "            drop_piece(temp_board, col, PLAYER_PIECE)\n",
    "            new_score = minimax(temp_board, depth - 1, alpha, beta, True)[1]\n",
    "            if new_score < value:\n",
    "                value = new_score\n",
    "                best_column = col\n",
    "            beta = min(beta, value)\n",
    "            if alpha >= beta:  # Prune\n",
    "                break\n",
    "        return best_column, value\n"
   ],
   "outputs": [],
   "execution_count": 62
  },
  {
   "cell_type": "markdown",
   "id": "99f8d53a522ea625",
   "metadata": {},
   "source": [
    "# P3 : PVE (0 points)"
   ]
  },
  {
   "cell_type": "markdown",
   "id": "2e6a715daea2b583",
   "metadata": {},
   "source": [
    "Run this code to test your AI's performance. It is recommended to execute this part locally."
   ]
  },
  {
   "cell_type": "code",
   "id": "7fb5207c-57ee-4db0-b970-617f39d49dc9",
   "metadata": {
    "ExecuteTime": {
     "end_time": "2024-11-15T16:40:32.558881Z",
     "start_time": "2024-11-15T16:39:52.991087Z"
    }
   },
   "source": [
    "pygame.init()\n",
    "width = COLUMN_COUNT * SQUARESIZE\n",
    "height = (ROW_COUNT + 1) * SQUARESIZE\n",
    "size = (width, height)\n",
    "screen = pygame.display.set_mode(size)\n",
    "myfont = pygame.font.SysFont(\"monospace\", 75)\n",
    "\n",
    "def rotate_board(board):\n",
    "    rotated_board = np.rot90(board)\n",
    "    for col in range(rotated_board.shape[1]):\n",
    "        column = rotated_board[:, col]\n",
    "        non_empty = column[column != EMPTY]\n",
    "        empty_count = ROW_COUNT - len(non_empty)\n",
    "        rotated_board[:, col] = np.concatenate((non_empty, np.zeros(empty_count, dtype=int)))\n",
    "    return rotated_board\n",
    "\n",
    "\n",
    "def draw_board(board):\n",
    "    for c in range(COLUMN_COUNT):\n",
    "        for r in range(ROW_COUNT):\n",
    "            pygame.draw.rect(screen, FG_COLOR, (c * SQUARESIZE, r * SQUARESIZE + SQUARESIZE, SQUARESIZE, SQUARESIZE))\n",
    "            pygame.draw.circle(screen, BG_COLOR, (\n",
    "                int(c * SQUARESIZE + SQUARESIZE / 2), int(r * SQUARESIZE + SQUARESIZE + SQUARESIZE / 2)), RADIUS)\n",
    "\n",
    "    for c in range(COLUMN_COUNT):\n",
    "        for r in range(ROW_COUNT):\n",
    "            if board[r][c] == PLAYER_PIECE:\n",
    "                pygame.draw.circle(screen, P1_COLOR, (\n",
    "                    int(c * SQUARESIZE + SQUARESIZE / 2), height - int(r * SQUARESIZE + SQUARESIZE / 2)), RADIUS)\n",
    "            elif board[r][c] == AI_PIECE:\n",
    "                pygame.draw.circle(screen, P2_COLOR, (\n",
    "                    int(c * SQUARESIZE + SQUARESIZE / 2), height - int(r * SQUARESIZE + SQUARESIZE / 2)), RADIUS)\n",
    "    pygame.display.update()\n",
    "\n",
    "def run_game():\n",
    "    board = create_board()\n",
    "    draw_board(board)\n",
    "    game_over = False\n",
    "    turn = random.choice([PLAYER, AI])  # Randomly select who goes first\n",
    "\n",
    "    while not game_over:\n",
    "        for event in pygame.event.get():\n",
    "            if event.type == pygame.QUIT:\n",
    "                pygame.quit()\n",
    "                return\n",
    "\n",
    "            # Player's turn\n",
    "            if turn == PLAYER:\n",
    "                if event.type == pygame.MOUSEMOTION:\n",
    "                    pygame.draw.rect(screen, BG_COLOR, (0, 0, width, SQUARESIZE))\n",
    "                    posx = event.pos[0]\n",
    "                    pygame.draw.circle(screen, P1_COLOR, (posx, int(SQUARESIZE / 2)), RADIUS)\n",
    "                    pygame.display.update()\n",
    "\n",
    "                if event.type == pygame.MOUSEBUTTONDOWN:\n",
    "                    pygame.draw.rect(screen, BG_COLOR, (0, 0, width, SQUARESIZE))\n",
    "                    posx = event.pos[0]\n",
    "                    col = int(math.floor(posx / SQUARESIZE))\n",
    "\n",
    "                    if is_valid_location(board, col):\n",
    "                        drop_piece(board, col, PLAYER_PIECE)\n",
    "                        if random.random() <= 0.125:\n",
    "                            board = rotate_board(board)\n",
    "                            draw_board(board)\n",
    "                            pygame.time.wait(1500)\n",
    "\n",
    "                        if winning_move(board, PLAYER_PIECE):\n",
    "                            label = myfont.render(\"Player 1 wins!!\", 1, P1_COLOR)\n",
    "                            print(\"Player 1 wins!!\")\n",
    "                            screen.blit(label, (40, 10))\n",
    "                            game_over = True\n",
    "                        elif winning_move(board, AI_PIECE):\n",
    "                            label = myfont.render(\"Player 2 wins!!\", 1, P2_COLOR)\n",
    "                            print(\"Player 2 wins!!\")\n",
    "                            screen.blit(label, (40, 10))\n",
    "                            game_over = True\n",
    "\n",
    "                        turn = AI  # Switch turn to AI\n",
    "                        draw_board(board)\n",
    "\n",
    "                     # AI's turn\n",
    "        if turn == AI and not game_over:\n",
    "            col, minimax_score = minimax(board, 5, -math.inf, math.inf, True)\n",
    "\n",
    "            if col is not None and is_valid_location(board, col):\n",
    "                drop_piece(board, col, AI_PIECE)\n",
    "                \n",
    "                if random.random() <= 0.125:\n",
    "                    board = rotate_board(board)\n",
    "                    draw_board(board)\n",
    "                    pygame.time.wait(1500)\n",
    "\n",
    "                if winning_move(board, AI_PIECE):\n",
    "                    label = myfont.render(\"Player 2 wins!!\", 1, P2_COLOR)\n",
    "                    print(\"Player 2 wins!!\")\n",
    "                    screen.blit(label, (40, 10))\n",
    "                    game_over = True\n",
    "                elif winning_move(board, PLAYER_PIECE):\n",
    "                    label = myfont.render(\"Player 1 wins!!\", 1, P1_COLOR)\n",
    "                    print(\"Player 1 wins!!\")\n",
    "                    screen.blit(label, (40, 10))\n",
    "                    game_over = True\n",
    "\n",
    "                turn = PLAYER  # Switch turn back to Player\n",
    "                draw_board(board)\n",
    "\n",
    "        if game_over:\n",
    "            pygame.time.wait(3000)\n",
    "            pygame.quit()\n",
    "            return\n",
    "\n",
    "\n",
    "\n",
    "run_game()"
   ],
   "outputs": [],
   "execution_count": 65
  },
  {
   "cell_type": "markdown",
   "id": "2eb69cd3d5970d9f",
   "metadata": {},
   "source": [
    "# P4 : EVE (30 points)"
   ]
  },
  {
   "cell_type": "markdown",
   "id": "17603a8d0ea2c314",
   "metadata": {},
   "source": [
    "In this section, we will simulate an AI battle where your AI heuristic should outperform our provided heuristic. Don’t worry; the opposing AI is not optimal, but if your scoring approach is inadequate, you may lose some credit from P2. Your AI should demonstrate a significant advantage, meaning it should consistently beat our AI on average, regardless of whether it plays as the first or second player. Please note that your search tree should can't have a higher depth than our heuristic."
   ]
  },
  {
   "cell_type": "markdown",
   "id": "b1f1d0cecad1748a",
   "metadata": {},
   "source": [
    "Implement the minimax algorithm similar to your main minimax function. However, do not modify the tester_evaluate_window and tester_score_position functions. Remember to utilize tester_score_position within tester_minimax!"
   ]
  },
  {
   "cell_type": "code",
   "id": "8410d559a028936",
   "metadata": {
    "ExecuteTime": {
     "end_time": "2024-11-15T16:45:17.918467Z",
     "start_time": "2024-11-15T16:45:17.906340Z"
    }
   },
   "source": [
    "def tester_evaluate_window(window, piece):\n",
    "    score = 0\n",
    "    opp_piece = PLAYER_PIECE if piece == AI_PIECE else AI_PIECE\n",
    "    if window.count(piece) == 4:\n",
    "        score += 100\n",
    "    elif window.count(piece) == 3 and window.count(EMPTY) == 1:\n",
    "        score += 5\n",
    "    elif window.count(piece) == 2 and window.count(EMPTY) == 2:\n",
    "        score += 2\n",
    "    if window.count(opp_piece) == 3 and window.count(EMPTY) == 1:\n",
    "        score -= 4\n",
    "    return score\n",
    "\n",
    "\n",
    "def tester_score_position(board, piece):\n",
    "    score = 0\n",
    "    center_array = [int(i) for i in list(board[:, COLUMN_COUNT // 2])]\n",
    "    score += center_array.count(piece) * 3\n",
    "\n",
    "    for r in range(ROW_COUNT):\n",
    "        row_array = [int(i) for i in list(board[r, :])]\n",
    "        for c in range(COLUMN_COUNT - 3):\n",
    "            window = row_array[c:c + WINDOW_LENGTH]\n",
    "            score += tester_evaluate_window(window, piece)\n",
    "\n",
    "    for c in range(COLUMN_COUNT):\n",
    "        col_array = [int(i) for i in list(board[:, c])]\n",
    "        for r in range(ROW_COUNT - 3):\n",
    "            window = col_array[r:r + WINDOW_LENGTH]\n",
    "            score += tester_evaluate_window(window, piece)\n",
    "\n",
    "    for r in range(ROW_COUNT - 3):\n",
    "        for c in range(COLUMN_COUNT - 3):\n",
    "            window = [board[r + i][c + i] for i in range(WINDOW_LENGTH)]\n",
    "            score += tester_evaluate_window(window, piece)\n",
    "\n",
    "    for r in range(ROW_COUNT - 3):\n",
    "        for c in range(COLUMN_COUNT - 3):\n",
    "            window = [board[r + 3 - i][c + i] for i in range(WINDOW_LENGTH)]\n",
    "            score += tester_evaluate_window(window, piece)\n",
    "\n",
    "\n",
    "def tester_minimax(board, depth, alpha, beta, maximizingPlayer):\n",
    "    \"\"\"\n",
    "    Minimax algorithm with alpha-beta pruning for AI testing.\n",
    "    \n",
    "    Args:\n",
    "        board (numpy.ndarray): The current game board.\n",
    "        depth (int): The maximum depth of the recursion.\n",
    "        alpha (float): The alpha value for pruning (initially -infinity).\n",
    "        beta (float): The beta value for pruning (initially infinity).\n",
    "        maximizingPlayer (bool): True if the current move is for the maximizing player (AI), False for the minimizing player (PLAYER).\n",
    "    \n",
    "    Returns:\n",
    "        tuple: (best_column, value) where `best_column` is the optimal column to play in, and `value` is the minimax evaluation score.\n",
    "    \"\"\"\n",
    "    valid_locations = get_valid_locations(board)\n",
    "    is_terminal = winning_move(board, PLAYER_PIECE) or winning_move(board, AI_PIECE) or len(valid_locations) == 0 or depth == 0\n",
    "\n",
    "    # Terminal condition: check for a win, loss, draw, or depth limit\n",
    "    if is_terminal:\n",
    "        if winning_move(board, AI_PIECE):  # AI wins\n",
    "            return (None, 1000000)\n",
    "        elif winning_move(board, PLAYER_PIECE):  # PLAYER wins\n",
    "            return (None, -1000000)\n",
    "        elif len(valid_locations) == 0:  # Draw\n",
    "            return (None, 0)\n",
    "        else:  # Depth reached\n",
    "            return (None, tester_score_position(board, AI_PIECE))\n",
    "\n",
    "    if maximizingPlayer:\n",
    "        value = -float('inf')\n",
    "        best_column = valid_locations[0]  # Default to the first valid column in case no better column is found\n",
    "        for col in valid_locations:\n",
    "            temp_board = board.copy()\n",
    "            drop_piece(temp_board, col, AI_PIECE)\n",
    "            new_score = tester_minimax(temp_board, depth - 1, alpha, beta, False)[1]\n",
    "            if new_score > value:\n",
    "                value = new_score\n",
    "                best_column = col\n",
    "            alpha = max(alpha, value)\n",
    "            if alpha >= beta:  # Alpha-beta pruning\n",
    "                break\n",
    "        return best_column, value\n",
    "\n",
    "    else:  # Minimizing player (the tester's heuristic AI)\n",
    "        value = float('inf')\n",
    "        best_column = valid_locations[0]  # Default to the first valid column in case no better column is found\n",
    "        for col in valid_locations:\n",
    "            temp_board = board.copy()\n",
    "            drop_piece(temp_board, col, PLAYER_PIECE)\n",
    "            new_score = tester_minimax(temp_board, depth - 1, alpha, beta, True)[1]\n",
    "            if new_score < value:\n",
    "                value = new_score\n",
    "                best_column = col\n",
    "            beta = min(beta, value)\n",
    "            if alpha >= beta:  # Alpha-beta pruning\n",
    "                break\n",
    "        return best_column, value\n",
    "\n"
   ],
   "outputs": [],
   "execution_count": 69
  },
  {
   "cell_type": "code",
   "id": "aaa8fef2dc4a9cbb",
   "metadata": {
    "ExecuteTime": {
     "end_time": "2024-11-15T16:45:19.775395Z",
     "start_time": "2024-11-15T16:45:19.770681Z"
    }
   },
   "source": [
    "def simulate_game():\n",
    "    board = create_board()\n",
    "    starting_turn = turn = random.choice([0, 1])\n",
    "\n",
    "    game_over = False\n",
    "    while not game_over:\n",
    "        if turn == PLAYER:\n",
    "            col, minimax_score = tester_minimax(board, 4, -math.inf, math.inf, True)\n",
    "            if is_valid_location(board, col):\n",
    "                drop_piece(board, col, PLAYER_PIECE)\n",
    "                if random.random() <= 0.125:\n",
    "                    board = rotate_board(board)\n",
    "\n",
    "                if winning_move(board, AI_PIECE):\n",
    "                    return 1, starting_turn\n",
    "\n",
    "                elif winning_move(board, PLAYER_PIECE):\n",
    "                    return 0, starting_turn\n",
    "                turn += 1\n",
    "                turn = turn % 2\n",
    "\n",
    "        if turn == AI and not game_over:\n",
    "            col, minimax_score = minimax(board, 4, -math.inf, math.inf, True)\n",
    "            if is_valid_location(board, col):\n",
    "                drop_piece(board, col, AI_PIECE)\n",
    "                if random.random() <= 0.125:\n",
    "                    board = rotate_board(board)\n",
    "                if winning_move(board, PLAYER_PIECE):\n",
    "                    return 0, starting_turn\n",
    "                elif winning_move(board, AI_PIECE):\n",
    "                    return 1, starting_turn\n",
    "\n",
    "                turn += 1\n",
    "                turn = turn % 2"
   ],
   "outputs": [],
   "execution_count": 70
  },
  {
   "cell_type": "markdown",
   "id": "9a86c67316e6c039",
   "metadata": {},
   "source": [
    "Run this tester. You need to win at least 65% of the games to pass. \n",
    "<br>\n",
    "The code execution should take less than 10 minutes to complete. If it exceeds this time, performance optimization might be necessary."
   ]
  },
  {
   "cell_type": "code",
   "id": "378e9176f8eb177a",
   "metadata": {
    "ExecuteTime": {
     "end_time": "2024-11-15T16:45:22.061649Z",
     "start_time": "2024-11-15T16:45:21.690378Z"
    }
   },
   "source": [
    "wins = 0\n",
    "tests = 100\n",
    "throw = 0\n",
    "disadvantage = 0\n",
    "\n",
    "start_time = time.time()\n",
    "\n",
    "for i in range(tests):\n",
    "    result = simulate_game()\n",
    "    if result[1] == PLAYER and result[0] == 0: disadvantage += 1\n",
    "    if result[1] == AI and result[0] == 0: throw += 1\n",
    "    wins += result[0]\n",
    "\n",
    "end_time = time.time()\n",
    "\n",
    "print(f\"you won {wins / tests}% of games\")\n",
    "print(f\"you throw {throw / tests}% of games\")\n",
    "print(f\"you lost logically {disadvantage / tests}% of games\")\n",
    "print(f\"Code execution time: {end_time - start_time:.4f} seconds\")"
   ],
   "outputs": [
    {
     "ename": "TypeError",
     "evalue": "'<' not supported between instances of 'NoneType' and 'float'",
     "output_type": "error",
     "traceback": [
      "\u001B[0;31m---------------------------------------------------------------------------\u001B[0m",
      "\u001B[0;31mTypeError\u001B[0m                                 Traceback (most recent call last)",
      "Cell \u001B[0;32mIn[71], line 9\u001B[0m\n\u001B[1;32m      6\u001B[0m start_time \u001B[38;5;241m=\u001B[39m time\u001B[38;5;241m.\u001B[39mtime()\n\u001B[1;32m      8\u001B[0m \u001B[38;5;28;01mfor\u001B[39;00m i \u001B[38;5;129;01min\u001B[39;00m \u001B[38;5;28mrange\u001B[39m(tests):\n\u001B[0;32m----> 9\u001B[0m     result \u001B[38;5;241m=\u001B[39m \u001B[43msimulate_game\u001B[49m\u001B[43m(\u001B[49m\u001B[43m)\u001B[49m\n\u001B[1;32m     10\u001B[0m     \u001B[38;5;28;01mif\u001B[39;00m result[\u001B[38;5;241m1\u001B[39m] \u001B[38;5;241m==\u001B[39m PLAYER \u001B[38;5;129;01mand\u001B[39;00m result[\u001B[38;5;241m0\u001B[39m] \u001B[38;5;241m==\u001B[39m \u001B[38;5;241m0\u001B[39m: disadvantage \u001B[38;5;241m+\u001B[39m\u001B[38;5;241m=\u001B[39m \u001B[38;5;241m1\u001B[39m\n\u001B[1;32m     11\u001B[0m     \u001B[38;5;28;01mif\u001B[39;00m result[\u001B[38;5;241m1\u001B[39m] \u001B[38;5;241m==\u001B[39m AI \u001B[38;5;129;01mand\u001B[39;00m result[\u001B[38;5;241m0\u001B[39m] \u001B[38;5;241m==\u001B[39m \u001B[38;5;241m0\u001B[39m: throw \u001B[38;5;241m+\u001B[39m\u001B[38;5;241m=\u001B[39m \u001B[38;5;241m1\u001B[39m\n",
      "Cell \u001B[0;32mIn[70], line 8\u001B[0m, in \u001B[0;36msimulate_game\u001B[0;34m()\u001B[0m\n\u001B[1;32m      6\u001B[0m \u001B[38;5;28;01mwhile\u001B[39;00m \u001B[38;5;129;01mnot\u001B[39;00m game_over:\n\u001B[1;32m      7\u001B[0m     \u001B[38;5;28;01mif\u001B[39;00m turn \u001B[38;5;241m==\u001B[39m PLAYER:\n\u001B[0;32m----> 8\u001B[0m         col, minimax_score \u001B[38;5;241m=\u001B[39m \u001B[43mtester_minimax\u001B[49m\u001B[43m(\u001B[49m\u001B[43mboard\u001B[49m\u001B[43m,\u001B[49m\u001B[43m \u001B[49m\u001B[38;5;241;43m4\u001B[39;49m\u001B[43m,\u001B[49m\u001B[43m \u001B[49m\u001B[38;5;241;43m-\u001B[39;49m\u001B[43mmath\u001B[49m\u001B[38;5;241;43m.\u001B[39;49m\u001B[43minf\u001B[49m\u001B[43m,\u001B[49m\u001B[43m \u001B[49m\u001B[43mmath\u001B[49m\u001B[38;5;241;43m.\u001B[39;49m\u001B[43minf\u001B[49m\u001B[43m,\u001B[49m\u001B[43m \u001B[49m\u001B[38;5;28;43;01mTrue\u001B[39;49;00m\u001B[43m)\u001B[49m\n\u001B[1;32m      9\u001B[0m         \u001B[38;5;28;01mif\u001B[39;00m is_valid_location(board, col):\n\u001B[1;32m     10\u001B[0m             drop_piece(board, col, PLAYER_PIECE)\n",
      "Cell \u001B[0;32mIn[69], line 77\u001B[0m, in \u001B[0;36mtester_minimax\u001B[0;34m(board, depth, alpha, beta, maximizingPlayer)\u001B[0m\n\u001B[1;32m     75\u001B[0m temp_board \u001B[38;5;241m=\u001B[39m board\u001B[38;5;241m.\u001B[39mcopy()\n\u001B[1;32m     76\u001B[0m drop_piece(temp_board, col, AI_PIECE)\n\u001B[0;32m---> 77\u001B[0m new_score \u001B[38;5;241m=\u001B[39m \u001B[43mtester_minimax\u001B[49m\u001B[43m(\u001B[49m\u001B[43mtemp_board\u001B[49m\u001B[43m,\u001B[49m\u001B[43m \u001B[49m\u001B[43mdepth\u001B[49m\u001B[43m \u001B[49m\u001B[38;5;241;43m-\u001B[39;49m\u001B[43m \u001B[49m\u001B[38;5;241;43m1\u001B[39;49m\u001B[43m,\u001B[49m\u001B[43m \u001B[49m\u001B[43malpha\u001B[49m\u001B[43m,\u001B[49m\u001B[43m \u001B[49m\u001B[43mbeta\u001B[49m\u001B[43m,\u001B[49m\u001B[43m \u001B[49m\u001B[38;5;28;43;01mFalse\u001B[39;49;00m\u001B[43m)\u001B[49m[\u001B[38;5;241m1\u001B[39m]\n\u001B[1;32m     78\u001B[0m \u001B[38;5;28;01mif\u001B[39;00m new_score \u001B[38;5;241m>\u001B[39m value:\n\u001B[1;32m     79\u001B[0m     value \u001B[38;5;241m=\u001B[39m new_score\n",
      "Cell \u001B[0;32mIn[69], line 92\u001B[0m, in \u001B[0;36mtester_minimax\u001B[0;34m(board, depth, alpha, beta, maximizingPlayer)\u001B[0m\n\u001B[1;32m     90\u001B[0m temp_board \u001B[38;5;241m=\u001B[39m board\u001B[38;5;241m.\u001B[39mcopy()\n\u001B[1;32m     91\u001B[0m drop_piece(temp_board, col, PLAYER_PIECE)\n\u001B[0;32m---> 92\u001B[0m new_score \u001B[38;5;241m=\u001B[39m \u001B[43mtester_minimax\u001B[49m\u001B[43m(\u001B[49m\u001B[43mtemp_board\u001B[49m\u001B[43m,\u001B[49m\u001B[43m \u001B[49m\u001B[43mdepth\u001B[49m\u001B[43m \u001B[49m\u001B[38;5;241;43m-\u001B[39;49m\u001B[43m \u001B[49m\u001B[38;5;241;43m1\u001B[39;49m\u001B[43m,\u001B[49m\u001B[43m \u001B[49m\u001B[43malpha\u001B[49m\u001B[43m,\u001B[49m\u001B[43m \u001B[49m\u001B[43mbeta\u001B[49m\u001B[43m,\u001B[49m\u001B[43m \u001B[49m\u001B[38;5;28;43;01mTrue\u001B[39;49;00m\u001B[43m)\u001B[49m[\u001B[38;5;241m1\u001B[39m]\n\u001B[1;32m     93\u001B[0m \u001B[38;5;28;01mif\u001B[39;00m new_score \u001B[38;5;241m<\u001B[39m value:\n\u001B[1;32m     94\u001B[0m     value \u001B[38;5;241m=\u001B[39m new_score\n",
      "Cell \u001B[0;32mIn[69], line 77\u001B[0m, in \u001B[0;36mtester_minimax\u001B[0;34m(board, depth, alpha, beta, maximizingPlayer)\u001B[0m\n\u001B[1;32m     75\u001B[0m temp_board \u001B[38;5;241m=\u001B[39m board\u001B[38;5;241m.\u001B[39mcopy()\n\u001B[1;32m     76\u001B[0m drop_piece(temp_board, col, AI_PIECE)\n\u001B[0;32m---> 77\u001B[0m new_score \u001B[38;5;241m=\u001B[39m \u001B[43mtester_minimax\u001B[49m\u001B[43m(\u001B[49m\u001B[43mtemp_board\u001B[49m\u001B[43m,\u001B[49m\u001B[43m \u001B[49m\u001B[43mdepth\u001B[49m\u001B[43m \u001B[49m\u001B[38;5;241;43m-\u001B[39;49m\u001B[43m \u001B[49m\u001B[38;5;241;43m1\u001B[39;49m\u001B[43m,\u001B[49m\u001B[43m \u001B[49m\u001B[43malpha\u001B[49m\u001B[43m,\u001B[49m\u001B[43m \u001B[49m\u001B[43mbeta\u001B[49m\u001B[43m,\u001B[49m\u001B[43m \u001B[49m\u001B[38;5;28;43;01mFalse\u001B[39;49;00m\u001B[43m)\u001B[49m[\u001B[38;5;241m1\u001B[39m]\n\u001B[1;32m     78\u001B[0m \u001B[38;5;28;01mif\u001B[39;00m new_score \u001B[38;5;241m>\u001B[39m value:\n\u001B[1;32m     79\u001B[0m     value \u001B[38;5;241m=\u001B[39m new_score\n",
      "Cell \u001B[0;32mIn[69], line 93\u001B[0m, in \u001B[0;36mtester_minimax\u001B[0;34m(board, depth, alpha, beta, maximizingPlayer)\u001B[0m\n\u001B[1;32m     91\u001B[0m drop_piece(temp_board, col, PLAYER_PIECE)\n\u001B[1;32m     92\u001B[0m new_score \u001B[38;5;241m=\u001B[39m tester_minimax(temp_board, depth \u001B[38;5;241m-\u001B[39m \u001B[38;5;241m1\u001B[39m, alpha, beta, \u001B[38;5;28;01mTrue\u001B[39;00m)[\u001B[38;5;241m1\u001B[39m]\n\u001B[0;32m---> 93\u001B[0m \u001B[38;5;28;01mif\u001B[39;00m \u001B[43mnew_score\u001B[49m\u001B[43m \u001B[49m\u001B[38;5;241;43m<\u001B[39;49m\u001B[43m \u001B[49m\u001B[43mvalue\u001B[49m:\n\u001B[1;32m     94\u001B[0m     value \u001B[38;5;241m=\u001B[39m new_score\n\u001B[1;32m     95\u001B[0m     best_column \u001B[38;5;241m=\u001B[39m col\n",
      "\u001B[0;31mTypeError\u001B[0m: '<' not supported between instances of 'NoneType' and 'float'"
     ]
    }
   ],
   "execution_count": 71
  }
 ],
 "metadata": {
  "kernelspec": {
   "display_name": "Python 3 (ipykernel)",
   "language": "python",
   "name": "python3"
  },
  "language_info": {
   "codemirror_mode": {
    "name": "ipython",
    "version": 3
   },
   "file_extension": ".py",
   "mimetype": "text/x-python",
   "name": "python",
   "nbconvert_exporter": "python",
   "pygments_lexer": "ipython3",
   "version": "3.12.3"
  }
 },
 "nbformat": 4,
 "nbformat_minor": 5
}
