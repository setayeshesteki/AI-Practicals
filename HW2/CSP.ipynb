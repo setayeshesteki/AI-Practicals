{
 "cells": [
  {
   "cell_type": "markdown",
   "id": "6c0ab0a4",
   "metadata": {},
   "source": [
    "<img src=\"./sharif.png\" alt=\"SUT logo\" width=300 height=300 align=left class=\"saturate\">\n",
    "\n",
    "<br>\n",
    "<font>\n",
    "<div dir=ltr align=center>\n",
    "<font color=0F5298 size=7>\n",
    "    Artificial Intelligence <br> <br>\n",
    "<font color=2565AE size=5>\n",
    "    CE Department <br>\n",
    "    Fall 2024 - Prof. Rohban<br>\n",
    "<font color=3C99D size=5>\n",
    "    HW2 Practical <br>\n",
    "    Constraint Satisfaction Problem<br>\n",
    "<font color=696880 size=4>\n",
    "    Shayan Shabani\n",
    "\n",
    "____"
   ]
  },
  {
   "cell_type": "markdown",
   "id": "3c232c0d",
   "metadata": {},
   "source": [
    "## Personal Data"
   ]
  },
  {
   "cell_type": "code",
   "execution_count": 2,
   "id": "9833779c",
   "metadata": {},
   "outputs": [],
   "source": [
    "full_name = ''\n",
    "student_number = ''"
   ]
  },
  {
   "cell_type": "markdown",
   "id": "71c26e05",
   "metadata": {},
   "source": [
    "## Sudoku Solver : Backtracking (25 Points)\n",
    "Use your knowledge of the backtracking algorithm to solve the sudoku problem"
   ]
  },
  {
   "cell_type": "markdown",
   "id": "757d67f8",
   "metadata": {},
   "source": [
    "### Importing Libraries"
   ]
  },
  {
   "cell_type": "code",
   "execution_count": 1,
   "id": "3abee16c",
   "metadata": {},
   "outputs": [
    {
     "name": "stderr",
     "output_type": "stream",
     "text": [
      "C:\\Users\\KASRA\\AppData\\Roaming\\Python\\Python310\\site-packages\\pandas\\core\\arrays\\masked.py:60: UserWarning: Pandas requires version '1.3.6' or newer of 'bottleneck' (version '1.3.5' currently installed).\n",
      "  from pandas.core import (\n"
     ]
    }
   ],
   "source": [
    "import pandas as pd\n",
    "import numpy as np"
   ]
  },
  {
   "cell_type": "markdown",
   "id": "e54e9d50",
   "metadata": {},
   "source": [
    "### Preprocessing\n",
    "Import the data and explore it!\n",
    "The columns you need are named quizzes and solutions\n",
    "Unsolved sudoku are in quizzes and solved ones are in solutions, use the solutions column to check whether you solve the sudoku correctly"
   ]
  },
  {
   "cell_type": "code",
   "execution_count": 2,
   "id": "288620fe",
   "metadata": {},
   "outputs": [
    {
     "data": {
      "text/html": [
       "<div>\n",
       "<style scoped>\n",
       "    .dataframe tbody tr th:only-of-type {\n",
       "        vertical-align: middle;\n",
       "    }\n",
       "\n",
       "    .dataframe tbody tr th {\n",
       "        vertical-align: top;\n",
       "    }\n",
       "\n",
       "    .dataframe thead th {\n",
       "        text-align: right;\n",
       "    }\n",
       "</style>\n",
       "<table border=\"1\" class=\"dataframe\">\n",
       "  <thead>\n",
       "    <tr style=\"text-align: right;\">\n",
       "      <th></th>\n",
       "      <th>Unnamed: 0</th>\n",
       "      <th>quizzes</th>\n",
       "      <th>solutions</th>\n",
       "    </tr>\n",
       "  </thead>\n",
       "  <tbody>\n",
       "    <tr>\n",
       "      <th>0</th>\n",
       "      <td>0</td>\n",
       "      <td>0043002090050090010700600430060020871900074000...</td>\n",
       "      <td>8643712593258497619712658434361925871986574322...</td>\n",
       "    </tr>\n",
       "    <tr>\n",
       "      <th>1</th>\n",
       "      <td>1</td>\n",
       "      <td>0401000501070039605200080000000000170009068008...</td>\n",
       "      <td>3461792581875239645296483719658324174729168358...</td>\n",
       "    </tr>\n",
       "    <tr>\n",
       "      <th>2</th>\n",
       "      <td>2</td>\n",
       "      <td>6001203840084590720000060050002640300700800069...</td>\n",
       "      <td>6951273841384596727248369158512647392739815469...</td>\n",
       "    </tr>\n",
       "    <tr>\n",
       "      <th>3</th>\n",
       "      <td>3</td>\n",
       "      <td>4972000001004000050000160986203000403009000000...</td>\n",
       "      <td>4972583161864397252537164986293815473759641828...</td>\n",
       "    </tr>\n",
       "    <tr>\n",
       "      <th>4</th>\n",
       "      <td>4</td>\n",
       "      <td>0059103080094030600275001000300002010008200070...</td>\n",
       "      <td>4659123781894735623275681497386452919548216372...</td>\n",
       "    </tr>\n",
       "  </tbody>\n",
       "</table>\n",
       "</div>"
      ],
      "text/plain": [
       "   Unnamed: 0                                            quizzes  \\\n",
       "0           0  0043002090050090010700600430060020871900074000...   \n",
       "1           1  0401000501070039605200080000000000170009068008...   \n",
       "2           2  6001203840084590720000060050002640300700800069...   \n",
       "3           3  4972000001004000050000160986203000403009000000...   \n",
       "4           4  0059103080094030600275001000300002010008200070...   \n",
       "\n",
       "                                           solutions  \n",
       "0  8643712593258497619712658434361925871986574322...  \n",
       "1  3461792581875239645296483719658324174729168358...  \n",
       "2  6951273841384596727248369158512647392739815469...  \n",
       "3  4972583161864397252537164986293815473759641828...  \n",
       "4  4659123781894735623275681497386452919548216372...  "
      ]
     },
     "execution_count": 2,
     "metadata": {},
     "output_type": "execute_result"
    }
   ],
   "source": [
    "\"\"\"\n",
    "TODO: import the data from the provided sudoku.csv file and explore it\n",
    "\"\"\"\n",
    "data = None\n",
    "# TODO: print the head of the data"
   ]
  },
  {
   "cell_type": "code",
   "execution_count": 3,
   "id": "5db1c98b",
   "metadata": {},
   "outputs": [
    {
     "name": "stdout",
     "output_type": "stream",
     "text": [
      "<class 'pandas.core.frame.DataFrame'>\n",
      "RangeIndex: 2000 entries, 0 to 1999\n",
      "Data columns (total 3 columns):\n",
      " #   Column      Non-Null Count  Dtype \n",
      "---  ------      --------------  ----- \n",
      " 0   Unnamed: 0  2000 non-null   int64 \n",
      " 1   quizzes     2000 non-null   object\n",
      " 2   solutions   2000 non-null   object\n",
      "dtypes: int64(1), object(2)\n",
      "memory usage: 47.0+ KB\n"
     ]
    }
   ],
   "source": [
    "# TODO: print info of the data"
   ]
  },
  {
   "cell_type": "code",
   "execution_count": 4,
   "id": "cf30d961",
   "metadata": {},
   "outputs": [
    {
     "data": {
      "text/html": [
       "<div>\n",
       "<style scoped>\n",
       "    .dataframe tbody tr th:only-of-type {\n",
       "        vertical-align: middle;\n",
       "    }\n",
       "\n",
       "    .dataframe tbody tr th {\n",
       "        vertical-align: top;\n",
       "    }\n",
       "\n",
       "    .dataframe thead th {\n",
       "        text-align: right;\n",
       "    }\n",
       "</style>\n",
       "<table border=\"1\" class=\"dataframe\">\n",
       "  <thead>\n",
       "    <tr style=\"text-align: right;\">\n",
       "      <th></th>\n",
       "      <th>Unnamed: 0</th>\n",
       "    </tr>\n",
       "  </thead>\n",
       "  <tbody>\n",
       "    <tr>\n",
       "      <th>count</th>\n",
       "      <td>2000.000000</td>\n",
       "    </tr>\n",
       "    <tr>\n",
       "      <th>mean</th>\n",
       "      <td>999.500000</td>\n",
       "    </tr>\n",
       "    <tr>\n",
       "      <th>std</th>\n",
       "      <td>577.494589</td>\n",
       "    </tr>\n",
       "    <tr>\n",
       "      <th>min</th>\n",
       "      <td>0.000000</td>\n",
       "    </tr>\n",
       "    <tr>\n",
       "      <th>25%</th>\n",
       "      <td>499.750000</td>\n",
       "    </tr>\n",
       "    <tr>\n",
       "      <th>50%</th>\n",
       "      <td>999.500000</td>\n",
       "    </tr>\n",
       "    <tr>\n",
       "      <th>75%</th>\n",
       "      <td>1499.250000</td>\n",
       "    </tr>\n",
       "    <tr>\n",
       "      <th>max</th>\n",
       "      <td>1999.000000</td>\n",
       "    </tr>\n",
       "  </tbody>\n",
       "</table>\n",
       "</div>"
      ],
      "text/plain": [
       "        Unnamed: 0\n",
       "count  2000.000000\n",
       "mean    999.500000\n",
       "std     577.494589\n",
       "min       0.000000\n",
       "25%     499.750000\n",
       "50%     999.500000\n",
       "75%    1499.250000\n",
       "max    1999.000000"
      ]
     },
     "execution_count": 4,
     "metadata": {},
     "output_type": "execute_result"
    }
   ],
   "source": [
    "# TODO: describe the data"
   ]
  },
  {
   "cell_type": "code",
   "execution_count": 13,
   "id": "15ed2196",
   "metadata": {},
   "outputs": [],
   "source": [
    "def gridding_array(array):\n",
    "    \"\"\"\n",
    "    TODO: turn the 1D array to a sudoku map\n",
    "    \"\"\"\n",
    "    return None"
   ]
  },
  {
   "cell_type": "code",
   "execution_count": 19,
   "id": "4b1cde42",
   "metadata": {},
   "outputs": [],
   "source": [
    "#################################################\n",
    "############### DO NOT CHANGE ###################\n",
    "#################################################\n",
    "def display_grid(grid):\n",
    "    \"\"\"\n",
    "    This function prints a formatted representation of the 9x9 Sudoku grid with dividing lines.\n",
    "    \"\"\"\n",
    "    separator_row = \"+-----+-------+-----+\"\n",
    "\n",
    "    for row in range(9):\n",
    "        if row % 3 == 0:\n",
    "            print(separator_row)\n",
    "        \n",
    "        row_content = []\n",
    "        for col in range(9):\n",
    "            row_content.append(str(grid[row, col]))\n",
    "            if (col + 1) % 3 == 0 and col != 8:\n",
    "                row_content.append(\"|\")\n",
    "        \n",
    "        print(\" \".join(row_content))\n",
    "        \n",
    "    print(separator_row)\n",
    "\n",
    "#################################################\n",
    "#################################################\n",
    "#################################################"
   ]
  },
  {
   "cell_type": "markdown",
   "id": "b97f14a3",
   "metadata": {},
   "source": [
    "### Backtracking Algorithm\n",
    "Testing your algorithm on a sample sudoku is enough, but your code will be manually tested on multiple ones later"
   ]
  },
  {
   "cell_type": "code",
   "execution_count": 7,
   "id": "fdf7889c",
   "metadata": {},
   "outputs": [],
   "source": [
    "def is_empty(sudoku):\n",
    "    \"\"\"\n",
    "    TODO: This function should check whether the sudoku is still empty (contains zero values)\n",
    "    \"\"\"\n",
    "    return None"
   ]
  },
  {
   "cell_type": "code",
   "execution_count": 8,
   "id": "1a244fac",
   "metadata": {},
   "outputs": [],
   "source": [
    "def is_placement_valid(grid, num, position):\n",
    "    \"\"\"\n",
    "    TODO: This function determines whether it's valid to place the number 'num' at the given 'position' on the Sudoku grid.\n",
    "    \"\"\"\n",
    "    return False"
   ]
  },
  {
   "cell_type": "code",
   "execution_count": 15,
   "id": "d422671e",
   "metadata": {},
   "outputs": [],
   "source": [
    "def backtrack(sudoku):\n",
    "    \"\"\"\n",
    "    TODO: implement the backtracking algorithm utilizing is_empty and is_valid functions\n",
    "    \"\"\"\n",
    "    return False"
   ]
  },
  {
   "cell_type": "code",
   "execution_count": 20,
   "id": "c6e6cd07",
   "metadata": {},
   "outputs": [
    {
     "name": "stdout",
     "output_type": "stream",
     "text": [
      "before solving:\n",
      "+-----+-------+-----+\n",
      "0 0 4 | 3 0 0 | 2 0 9\n",
      "0 0 5 | 0 0 9 | 0 0 1\n",
      "0 7 0 | 0 6 0 | 0 4 3\n",
      "+-----+-------+-----+\n",
      "0 0 6 | 0 0 2 | 0 8 7\n",
      "1 9 0 | 0 0 7 | 4 0 0\n",
      "0 5 0 | 0 8 3 | 0 0 0\n",
      "+-----+-------+-----+\n",
      "6 0 0 | 0 0 0 | 1 0 5\n",
      "0 0 3 | 5 0 8 | 6 9 0\n",
      "0 4 2 | 9 1 0 | 3 0 0\n",
      "+-----+-------+-----+\n",
      "\n",
      "after solving:\n",
      "+-----+-------+-----+\n",
      "8 6 4 | 3 7 1 | 2 5 9\n",
      "3 2 5 | 8 4 9 | 7 6 1\n",
      "9 7 1 | 2 6 5 | 8 4 3\n",
      "+-----+-------+-----+\n",
      "4 3 6 | 1 9 2 | 5 8 7\n",
      "1 9 8 | 6 5 7 | 4 3 2\n",
      "2 5 7 | 4 8 3 | 9 1 6\n",
      "+-----+-------+-----+\n",
      "6 8 9 | 7 3 4 | 1 2 5\n",
      "7 1 3 | 5 2 8 | 6 9 4\n",
      "5 4 2 | 9 1 6 | 3 7 8\n",
      "+-----+-------+-----+\n",
      "\n",
      "The result is correct\n"
     ]
    }
   ],
   "source": [
    "def compare(sudoku, solution):\n",
    "    \"\"\"\n",
    "    TODO: compare the sudoku you solved with its actual solution inside the dataset\n",
    "        You have to subtract these two from each other and print the pretty version of the result\n",
    "        which should contains only zeros\n",
    "    \"\"\"\n",
    "    return False\n",
    "\n",
    "\n",
    "\"\"\"\n",
    "TODO: Test and print the pretty result of your sample sudoku\n",
    "        Compare it with the actual solution of the sudoku to make sure it is correct\n",
    "\"\"\"\n"
   ]
  },
  {
   "cell_type": "markdown",
   "id": "1287bb2e",
   "metadata": {},
   "source": [
    "## Sudoku Solver : CP-SAT Solver (15 Points)\n",
    "Now we are going to explore ortools library and use it to solve the sudoku problem\n",
    "Hint: use built-in functions of this library like AddAllDifferent and CpSolver; search for more ...\n",
    "here is a useful link : https://developers.google.com/optimization/cp"
   ]
  },
  {
   "cell_type": "code",
   "execution_count": 58,
   "id": "a0f7736d",
   "metadata": {},
   "outputs": [
    {
     "name": "stderr",
     "output_type": "stream",
     "text": [
      "\n",
      "[notice] A new release of pip is available: 24.1.1 -> 24.2\n",
      "[notice] To update, run: python.exe -m pip install --upgrade pip\n"
     ]
    },
    {
     "name": "stdout",
     "output_type": "stream",
     "text": [
      "Requirement already satisfied: ortools in c:\\users\\kasra\\appdata\\roaming\\python\\python310\\site-packages (9.11.4210)\n",
      "Requirement already satisfied: absl-py>=2.0.0 in c:\\users\\kasra\\appdata\\roaming\\python\\python310\\site-packages (from ortools) (2.1.0)\n",
      "Requirement already satisfied: numpy>=1.13.3 in c:\\users\\kasra\\anaconda3\\lib\\site-packages (from ortools) (1.23.5)\n",
      "Collecting pandas>=2.0.0 (from ortools)\n",
      "  Using cached pandas-2.2.3-cp310-cp310-win_amd64.whl.metadata (19 kB)\n",
      "Requirement already satisfied: protobuf<5.27,>=5.26.1 in c:\\users\\kasra\\appdata\\roaming\\python\\python310\\site-packages (from ortools) (5.26.1)\n",
      "Requirement already satisfied: immutabledict>=3.0.0 in c:\\users\\kasra\\appdata\\roaming\\python\\python310\\site-packages (from ortools) (4.2.0)\n",
      "Requirement already satisfied: python-dateutil>=2.8.2 in c:\\users\\kasra\\anaconda3\\lib\\site-packages (from pandas>=2.0.0->ortools) (2.8.2)\n",
      "Requirement already satisfied: pytz>=2020.1 in c:\\users\\kasra\\anaconda3\\lib\\site-packages (from pandas>=2.0.0->ortools) (2022.7)\n",
      "Requirement already satisfied: tzdata>=2022.7 in c:\\users\\kasra\\appdata\\roaming\\python\\python310\\site-packages (from pandas>=2.0.0->ortools) (2024.2)\n",
      "Requirement already satisfied: six>=1.5 in c:\\users\\kasra\\anaconda3\\lib\\site-packages (from python-dateutil>=2.8.2->pandas>=2.0.0->ortools) (1.16.0)\n",
      "Using cached pandas-2.2.3-cp310-cp310-win_amd64.whl (11.6 MB)\n",
      "Installing collected packages: pandas\n",
      "Successfully installed pandas-2.2.3\n"
     ]
    }
   ],
   "source": [
    "! python -m pip install -U --user ortools\n",
    "from ortools.sat.python import cp_model\n",
    "import pandas as pd\n",
    "import numpy as np"
   ]
  },
  {
   "cell_type": "code",
   "execution_count": 21,
   "id": "d59a9edf",
   "metadata": {},
   "outputs": [],
   "source": [
    "def solve_sudoku(sudoku):\n",
    "    \"\"\"\n",
    "    TODO: Solves the given Sudoku puzzle using ortools and returns the solved grid.\n",
    "    \n",
    "    :param sudoku_grid: 2D numpy array representing the Sudoku puzzle\n",
    "    :return: Solved 2D numpy array or a message indicating failure\n",
    "    \"\"\"\n",
    "    return None"
   ]
  },
  {
   "cell_type": "code",
   "execution_count": 22,
   "id": "9252aca5",
   "metadata": {},
   "outputs": [
    {
     "name": "stdout",
     "output_type": "stream",
     "text": [
      "before solving:\n",
      "+-----+-------+-----+\n",
      "0 0 4 | 3 0 0 | 2 0 9\n",
      "0 0 5 | 0 0 9 | 0 0 1\n",
      "0 7 0 | 0 6 0 | 0 4 3\n",
      "+-----+-------+-----+\n",
      "0 0 6 | 0 0 2 | 0 8 7\n",
      "1 9 0 | 0 0 7 | 4 0 0\n",
      "0 5 0 | 0 8 3 | 0 0 0\n",
      "+-----+-------+-----+\n",
      "6 0 0 | 0 0 0 | 1 0 5\n",
      "0 0 3 | 5 0 8 | 6 9 0\n",
      "0 4 2 | 9 1 0 | 3 0 0\n",
      "+-----+-------+-----+\n",
      "\n",
      "after solving:\n",
      "+-----+-------+-----+\n",
      "8 6 4 | 3 7 1 | 2 5 9\n",
      "3 2 5 | 8 4 9 | 7 6 1\n",
      "9 7 1 | 2 6 5 | 8 4 3\n",
      "+-----+-------+-----+\n",
      "4 3 6 | 1 9 2 | 5 8 7\n",
      "1 9 8 | 6 5 7 | 4 3 2\n",
      "2 5 7 | 4 8 3 | 9 1 6\n",
      "+-----+-------+-----+\n",
      "6 8 9 | 7 3 4 | 1 2 5\n",
      "7 1 3 | 5 2 8 | 6 9 4\n",
      "5 4 2 | 9 1 6 | 3 7 8\n",
      "+-----+-------+-----+\n",
      "\n",
      "The result is correct\n"
     ]
    }
   ],
   "source": [
    "\"\"\"\n",
    "TODO: Test and print the pretty result of the above function, one sample sudoku from the dataset is enough\n",
    "    use the compare function to make sure your answer is correct\n",
    "\"\"\"\n"
   ]
  },
  {
   "cell_type": "markdown",
   "id": "2bb9cb17",
   "metadata": {},
   "source": [
    "## Graph Coloring\n",
    "In this part, we are going to explore the graph coloring topic. Now we can use advanced options to speed up the process of constraint satisfaction"
   ]
  },
  {
   "cell_type": "code",
   "execution_count": 1,
   "id": "46c052fa",
   "metadata": {},
   "outputs": [],
   "source": [
    "from itertools import combinations\n",
    "from time import time\n",
    "import numpy as np\n",
    "import copy"
   ]
  },
  {
   "cell_type": "markdown",
   "id": "5322d205",
   "metadata": {},
   "source": [
    "### AC-3 Algorithm (20 Points)\n",
    "First and foremost, implement the AC-3 algorithm to be later used in the problem"
   ]
  },
  {
   "cell_type": "code",
   "execution_count": 2,
   "id": "afd19bb4",
   "metadata": {},
   "outputs": [],
   "source": [
    "def AC3(csp, neighbors):\n",
    "    \"\"\"\n",
    "    csp: \n",
    "        dict{\n",
    "            nodes: list of nodes,\n",
    "            domains: dictionary {variable: [domain]},\n",
    "            constraints: dictionary {(node_i, node_j): list of constraints\n",
    "        },\n",
    "    neighbors:\n",
    "        dict {var: [neighbor]}\n",
    "    \n",
    "    TODO: Implement the AC3 algorithm\n",
    "    \n",
    "    return: a bool to show whether the problem is consistent and if so, the reduced domain of the problem\n",
    "    \"\"\"\n",
    "    return False, None"
   ]
  },
  {
   "cell_type": "markdown",
   "id": "39aff8bf",
   "metadata": {},
   "source": [
    "### AC-4 Algorithm (20 Points)\n",
    "Secondly, implement the AC-4 (Arc Consistency 4) algorithm. This algorithm enforces arc consistency by maintaining **support tables** and efficiently processing **a queue of arcs** for consistency checks. To help you implement it, here are the key steps and concepts to focus on:\n",
    "1. **Support Tables**: For each pair of variable-value assignments, you must maintain a table that tracks the number of supporting values in the neighboring variables' domains. This table will allow you to quickly determine if a value is consistent with its neighbors\n",
    "2. Start by initializing your support tables for all variable-value pairs. For each arc (X, Y), compute and store the number of values in Y's domain that support each value in X's domain based on the constraint between X and Y.\n",
    "3. Initialize **a queue of arcs** with all pairs of variables that share a constraint\n",
    "4. For each arc (X, Y) in the queue, check the support for each value in X's domain. If any value in X loses all supporting values in Y, remove that value from X’s domain.\n",
    "5. If a value is removed from X’s domain, for every neighboring variable Z (other than Y), you must add the arc (Z, X) back into the queue for further consistency checks. This ensures that removing a value from X doesn’t create inconsistencies for other variables.\n",
    "6. Whenever a value is removed from a domain, update the support tables for all neighboring variable-value pairs that depend on the removed value. This way, if a value of Z is only supported by the value that was removed from X, the support count for that value of Z should be decremented.\n",
    "7. The algorithm terminates when the queue is empty, meaning all arcs have been processed and the domains of all variables are arc-consistent. If at any point a domain becomes empty, the problem is unsolvable."
   ]
  },
  {
   "cell_type": "code",
   "execution_count": 3,
   "id": "5dd661d1",
   "metadata": {},
   "outputs": [],
   "source": [
    "def AC4(csp):\n",
    "    \"\"\"\n",
    "    csp: \n",
    "        dict{\n",
    "            nodes: list of nodes,\n",
    "            domains: dictionary {variable: [domain]},\n",
    "            constraints: dictionary {(node_i, node_j): list of constraints\n",
    "        },\n",
    "        \n",
    "    TODO: Implement the AC4 algorithm\n",
    "    \n",
    "    return: a bool to show whether the problem is consistent and if so, the reduced domain of the problem\n",
    "    \"\"\"\n",
    "    return False, None"
   ]
  },
  {
   "cell_type": "code",
   "execution_count": 4,
   "id": "70d8b636",
   "metadata": {},
   "outputs": [
    {
     "name": "stdout",
     "output_type": "stream",
     "text": [
      "AC3 requires 24 steps. Average steps: 7.29. Total operations: 175\n",
      "AC3 -> Exist consistent solution:  {'WA': ['R'], 'NT': ['G', 'B'], 'SA': ['G', 'B'], 'Q': ['R', 'G', 'B'], 'NSW': ['R', 'G', 'B'], 'V': ['R', 'G', 'B']}\n",
      "solution retrieved in: 0.00299 s\n",
      "\n",
      "\n",
      "AC4 required 106 steps.\n",
      "AC4 -> Exist consistent solution:  {'WA': ['R'], 'NT': ['G', 'B'], 'SA': ['G', 'B'], 'Q': ['R', 'G', 'B'], 'NSW': ['R', 'G', 'B'], 'V': ['R', 'G', 'B']}\n",
      "solution retrieved in: 0 s\n"
     ]
    }
   ],
   "source": [
    "#################################################\n",
    "############### DO NOT CHANGE ###################\n",
    "#################################################\n",
    "\n",
    "graph = {\n",
    "    \"WA\": [\"NT\", \"SA\"], \n",
    "    \"NT\": [\"WA\", \"SA\", \"Q\"], \n",
    "    \"SA\": [\"NT\", \"WA\", \"Q\", \"NSW\", \"V\"], \n",
    "    \"Q\": [\"NT\", \"SA\", \"NSW\"], \n",
    "    \"NSW\": [\"Q\", \"SA\", \"V\"], \n",
    "    \"V\": [\"NSW\", \"SA\"]\n",
    "}\n",
    "\n",
    "nodes = [\"WA\", \"NT\", \"SA\", \"Q\", \"NSW\", \"V\"]\n",
    "domains = {}\n",
    "\n",
    "for node in nodes:\n",
    "    if node == \"WA\":\n",
    "        domains[node] = [\"R\"]\n",
    "    else:\n",
    "        domains[node] = [\"R\", \"G\", \"B\"]\n",
    "\n",
    "constraint = [(x, y) for x in [\"R\", \"G\", \"B\"] for y in [\"R\", \"G\", \"B\"] if x != y]\n",
    "constraints = {}\n",
    "\n",
    "for node in graph.keys():\n",
    "    for neighbor in graph[node]:\n",
    "        constraints[(node, neighbor)] = constraint\n",
    "\n",
    "#################################################\n",
    "#################################################\n",
    "#################################################\n",
    "\n",
    "# TODO: print the reduced domain by applying the AC3 algorithm (make sure to show the time spent as well)\n",
    "\n",
    "...\n",
    "\n",
    "# TODO: print the reduced domain by applying the AC4 algorithm (make sure to show the time spent as well)\n",
    "\n",
    "..."
   ]
  },
  {
   "cell_type": "markdown",
   "id": "f62ac009",
   "metadata": {},
   "source": [
    "### Conclusion\n",
    "Explain the differences between these two algorithms in terms of time and space complexity. Which one do you prefer to use?\n",
    "\n",
    "**Your answer**: ..."
   ]
  },
  {
   "cell_type": "markdown",
   "id": "3038d213",
   "metadata": {},
   "source": [
    "## Backtracking + AC-3 and AC-4 algorithm (20 Points)\n",
    "Now we are going to utilize the implemented algorithms to speed up the backtracking process, use both of the above algorithms, you must run ac3 and ac4 algorithms seperately."
   ]
  },
  {
   "cell_type": "code",
   "execution_count": 15,
   "id": "3270bf98",
   "metadata": {},
   "outputs": [
    {
     "name": "stdout",
     "output_type": "stream",
     "text": [
      "\n",
      "Backtracking + AC3 algorithm: \n",
      "\n",
      "AC3 requires 18 steps. Average steps: 5.56. Total operations: 100\n",
      "AC3 requires 18 steps. Average steps: 5.56. Total operations: 100\n",
      "AC3 requires 32 steps. Average steps: 13.94. Total operations: 446\n",
      "AC3 requires 18 steps. Average steps: 1.00. Total operations: 18\n",
      "AC3 requires 18 steps. Average steps: 1.00. Total operations: 18\n",
      "AC3 requires 18 steps. Average steps: 1.00. Total operations: 18\n",
      "AC3 requires 18 steps. Average steps: 1.00. Total operations: 18\n",
      "Solution found: {'WA': 'R', 'NT': 'G', 'SA': 'B', 'Q': 'R', 'NSW': 'G', 'V': 'R'}\n",
      "Solution retrieved in: 0.001001 seconds\n",
      "\n",
      "Backtracking + AC4 algorithm:\n",
      "\n",
      "AC4 required 100 steps.\n",
      "AC4 required 100 steps.\n",
      "AC4 required 38 steps.\n",
      "AC4 required 18 steps.\n",
      "AC4 required 18 steps.\n",
      "AC4 required 18 steps.\n",
      "AC4 required 18 steps.\n",
      "Solution found: {'WA': 'R', 'NT': 'G', 'SA': 'B', 'Q': 'R', 'NSW': 'G', 'V': 'R'}\n",
      "Solution retrieved in: 0.0009956 seconds\n"
     ]
    }
   ],
   "source": [
    "def is_consistent(var, value, assignment, csp, neighbors):\n",
    "    # TODO: Check if assignment is consistent\n",
    "    return False\n",
    "\n",
    "\n",
    "def select_unassigned_variable(assignment, domains):\n",
    "    # TODO: Select the unassigned variable with the smallest domain (MRV heuristic)\n",
    "    return None\n",
    "\n",
    "\n",
    "def backtracking_search(csp, neighbors, ac3):\n",
    "    # TODO: Recursive backtracking algorithm with AC3 or AC4\n",
    "    return None\n",
    "\n",
    "\n",
    "\n",
    "csp = {\n",
    "    \"nodes\": nodes,\n",
    "    \"domains\": domains,\n",
    "    \"constraints\": constraints\n",
    "}\n",
    "\n",
    "# TODO: Solve using AC3 algorithm\n",
    "\n",
    "print(\"\\nBacktracking + AC3 algorithm: \\n\")\n",
    "start = time()\n",
    "solution = backtracking_search(csp, graph, True)\n",
    "s = time() - start\n",
    "\n",
    "if solution:\n",
    "    print(\"Solution found:\", solution)\n",
    "else:\n",
    "    print(\"No solution found!\")\n",
    "    \n",
    "print(\"Solution retrieved in: %.4g seconds\" % s)\n",
    "\n",
    "\n",
    "# TODO: Solve using AC4 algorithm\n",
    "\n",
    "print(\"\\nBacktracking + AC4 algorithm:\\n\")\n",
    "start = time()\n",
    "solution = backtracking_search(csp, graph, False)\n",
    "s = time() - start\n",
    "\n",
    "if solution:\n",
    "    print(\"Solution found:\", solution)\n",
    "else:\n",
    "    print(\"No solution found!\")\n",
    "    \n",
    "print(\"Solution retrieved in: %.4g seconds\" % s)"
   ]
  }
 ],
 "metadata": {
  "kernelspec": {
   "display_name": "Python 3 (ipykernel)",
   "language": "python",
   "name": "python3"
  },
  "language_info": {
   "codemirror_mode": {
    "name": "ipython",
    "version": 3
   },
   "file_extension": ".py",
   "mimetype": "text/x-python",
   "name": "python",
   "nbconvert_exporter": "python",
   "pygments_lexer": "ipython3",
   "version": "3.10.9"
  }
 },
 "nbformat": 4,
 "nbformat_minor": 5
}
